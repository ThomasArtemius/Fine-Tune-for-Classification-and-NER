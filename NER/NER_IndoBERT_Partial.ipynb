{
  "cells": [
    {
      "cell_type": "code",
      "execution_count": null,
      "metadata": {
        "execution": {
          "iopub.execute_input": "2025-05-04T15:35:19.593216Z",
          "iopub.status.busy": "2025-05-04T15:35:19.592934Z",
          "iopub.status.idle": "2025-05-04T15:35:27.271120Z",
          "shell.execute_reply": "2025-05-04T15:35:27.270338Z",
          "shell.execute_reply.started": "2025-05-04T15:35:19.593193Z"
        },
        "trusted": true,
        "id": "H8HXumvoA0RD"
      },
      "outputs": [],
      "source": [
        "!pip install seqeval evaluate --quiet"
      ]
    },
    {
      "cell_type": "code",
      "execution_count": null,
      "metadata": {
        "execution": {
          "iopub.execute_input": "2025-05-04T15:35:27.272366Z",
          "iopub.status.busy": "2025-05-04T15:35:27.272067Z",
          "iopub.status.idle": "2025-05-04T15:35:51.853047Z",
          "shell.execute_reply": "2025-05-04T15:35:51.852362Z",
          "shell.execute_reply.started": "2025-05-04T15:35:27.272341Z"
        },
        "trusted": true,
        "id": "b2giqfndA0RE"
      },
      "outputs": [],
      "source": [
        "import pandas as pd\n",
        "import numpy as np\n",
        "from sklearn.model_selection import train_test_split\n",
        "from sklearn.metrics import classification_report, confusion_matrix\n",
        "import matplotlib.pyplot as plt\n",
        "import seaborn as sns\n",
        "from transformers import AutoTokenizer, AutoModelForTokenClassification\n",
        "from transformers import TrainingArguments, Trainer, TrainerCallback\n",
        "from datasets import Dataset\n",
        "import evaluate\n",
        "import torch\n",
        "from seqeval.metrics import classification_report as seqeval_classification_report\n",
        "from seqeval.scheme import IOB2"
      ]
    },
    {
      "cell_type": "code",
      "execution_count": null,
      "metadata": {
        "execution": {
          "iopub.execute_input": "2025-05-04T15:35:51.854554Z",
          "iopub.status.busy": "2025-05-04T15:35:51.853891Z",
          "iopub.status.idle": "2025-05-04T15:35:52.544074Z",
          "shell.execute_reply": "2025-05-04T15:35:52.543154Z",
          "shell.execute_reply.started": "2025-05-04T15:35:51.854529Z"
        },
        "trusted": true,
        "id": "13ufkNN4A0RE"
      },
      "outputs": [],
      "source": [
        "# Load and preprocess data\n",
        "file_path = \"/kaggle/input/nerskill/NERSkill.Id.txt\"\n",
        "df = pd.read_csv(file_path, delimiter=\"\\t\", names=[\"Sentence #\", \"Word\", \"Tag\"], skiprows=1)\n",
        "df[\"Sentence #\"] = df[\"Sentence #\"].ffill()\n",
        "\n",
        "# Convert to sentences with (word, tag) pairs\n",
        "sentences = df.groupby(\"Sentence #\", group_keys=False).apply(\n",
        "    lambda s: list(zip(s[\"Word\"], s[\"Tag\"]))).tolist()\n",
        "\n",
        "# Split data\n",
        "train_sentences, temp_sentences = train_test_split(sentences, test_size=0.3, random_state=42)\n",
        "val_sentences, test_sentences = train_test_split(temp_sentences, test_size=1/3, random_state=42)"
      ]
    },
    {
      "cell_type": "code",
      "execution_count": null,
      "metadata": {
        "execution": {
          "iopub.execute_input": "2025-05-04T15:35:52.546038Z",
          "iopub.status.busy": "2025-05-04T15:35:52.545819Z",
          "iopub.status.idle": "2025-05-04T15:35:53.565795Z",
          "shell.execute_reply": "2025-05-04T15:35:53.565162Z",
          "shell.execute_reply.started": "2025-05-04T15:35:52.546018Z"
        },
        "trusted": true,
        "id": "wl6VEj2uA0RF"
      },
      "outputs": [],
      "source": [
        "# Prepare tag mappings (ensure all tags are included)\n",
        "all_tags = sorted(set(tag for sentence in sentences for _, tag in sentence))\n",
        "tag2id = {tag: i for i, tag in enumerate(all_tags)}\n",
        "id2tag = {i: tag for i, tag in enumerate(all_tags)}\n",
        "\n",
        "# Initialize IndoBERT tokenizer\n",
        "model_checkpoint = \"indobenchmark/indobert-base-p2\"\n",
        "tokenizer = AutoTokenizer.from_pretrained(model_checkpoint)"
      ]
    },
    {
      "cell_type": "code",
      "execution_count": null,
      "metadata": {
        "execution": {
          "iopub.execute_input": "2025-05-04T15:35:53.567334Z",
          "iopub.status.busy": "2025-05-04T15:35:53.567026Z",
          "iopub.status.idle": "2025-05-04T15:35:53.572452Z",
          "shell.execute_reply": "2025-05-04T15:35:53.571812Z",
          "shell.execute_reply.started": "2025-05-04T15:35:53.567304Z"
        },
        "trusted": true,
        "id": "8NDoiKoKA0RF"
      },
      "outputs": [],
      "source": [
        "# Tokenize and align labels\n",
        "def tokenize_and_align_labels(examples):\n",
        "    tokenized_inputs = tokenizer(\n",
        "        examples[\"tokens\"],\n",
        "        truncation=True,\n",
        "        is_split_into_words=True,\n",
        "        padding=\"max_length\",\n",
        "        max_length=128\n",
        "    )\n",
        "\n",
        "    labels = []\n",
        "    for i, label in enumerate(examples[\"ner_tags\"]):\n",
        "        word_ids = tokenized_inputs.word_ids(batch_index=i)\n",
        "        previous_word_idx = None\n",
        "        label_ids = []\n",
        "        for word_idx in word_ids:\n",
        "            if word_idx is None:\n",
        "                label_ids.append(-100)\n",
        "            elif word_idx != previous_word_idx:\n",
        "                label_ids.append(label[word_idx])\n",
        "            else:\n",
        "                label_ids.append(-100)\n",
        "            previous_word_idx = word_idx\n",
        "        labels.append(label_ids)\n",
        "\n",
        "    tokenized_inputs[\"labels\"] = labels\n",
        "    return tokenized_inputs"
      ]
    },
    {
      "cell_type": "code",
      "execution_count": null,
      "metadata": {
        "execution": {
          "iopub.execute_input": "2025-05-04T15:35:53.573485Z",
          "iopub.status.busy": "2025-05-04T15:35:53.573178Z",
          "iopub.status.idle": "2025-05-04T15:35:56.349402Z",
          "shell.execute_reply": "2025-05-04T15:35:56.348551Z",
          "shell.execute_reply.started": "2025-05-04T15:35:53.573457Z"
        },
        "trusted": true,
        "id": "5X1xSs4EA0RF"
      },
      "outputs": [],
      "source": [
        "# Convert to Hugging Face Dataset format\n",
        "def prepare_dataset(sentences):\n",
        "    tokens = [[word for word, _ in sentence] for sentence in sentences]\n",
        "    ner_tags = [[tag2id[tag] for _, tag in sentence] for sentence in sentences]\n",
        "\n",
        "    return Dataset.from_dict({\n",
        "        \"tokens\": tokens,\n",
        "        \"ner_tags\": ner_tags\n",
        "    })\n",
        "\n",
        "train_dataset = prepare_dataset(train_sentences).map(tokenize_and_align_labels, batched=True)\n",
        "val_dataset = prepare_dataset(val_sentences).map(tokenize_and_align_labels, batched=True)\n",
        "test_dataset = prepare_dataset(test_sentences).map(tokenize_and_align_labels, batched=True)"
      ]
    },
    {
      "cell_type": "code",
      "execution_count": null,
      "metadata": {
        "execution": {
          "iopub.execute_input": "2025-05-04T15:35:56.350687Z",
          "iopub.status.busy": "2025-05-04T15:35:56.350371Z",
          "iopub.status.idle": "2025-05-04T15:35:59.970996Z",
          "shell.execute_reply": "2025-05-04T15:35:59.970129Z",
          "shell.execute_reply.started": "2025-05-04T15:35:56.350656Z"
        },
        "trusted": true,
        "id": "oet5F4PUA0RF"
      },
      "outputs": [],
      "source": [
        "model = AutoModelForTokenClassification.from_pretrained(\n",
        "    model_checkpoint,\n",
        "    num_labels=len(tag2id),\n",
        "    id2label=id2tag,\n",
        "    label2id=tag2id\n",
        ")\n",
        "\n",
        "# Freeze all layers first\n",
        "for param in model.base_model.parameters():\n",
        "    param.requires_grad = False\n",
        "\n",
        "# Unfreeze top 3 layers gradually\n",
        "for layer in model.base_model.encoder.layer[-3:]:  # Last 3 transformer layers\n",
        "    for param in layer.parameters():\n",
        "        param.requires_grad = True\n",
        "\n",
        "# Metrics (using seqeval for entity-level evaluation)\n",
        "seqeval = evaluate.load(\"seqeval\")"
      ]
    },
    {
      "cell_type": "code",
      "execution_count": null,
      "metadata": {
        "execution": {
          "iopub.execute_input": "2025-05-04T15:35:59.972337Z",
          "iopub.status.busy": "2025-05-04T15:35:59.972004Z",
          "iopub.status.idle": "2025-05-04T15:35:59.978447Z",
          "shell.execute_reply": "2025-05-04T15:35:59.977654Z",
          "shell.execute_reply.started": "2025-05-04T15:35:59.972302Z"
        },
        "trusted": true,
        "id": "Q1i2-qt2A0RF"
      },
      "outputs": [],
      "source": [
        "def compute_metrics(p):\n",
        "    predictions, labels = p\n",
        "    predictions = np.argmax(predictions, axis=2)\n",
        "\n",
        "    # Remove ignored index (-100) and convert indices to tag strings\n",
        "    true_predictions = [\n",
        "        [id2tag[p] for (p, l) in zip(prediction, label) if l != -100]\n",
        "        for prediction, label in zip(predictions, labels)\n",
        "    ]\n",
        "    true_labels = [\n",
        "        [id2tag[l] for (p, l) in zip(prediction, label) if l != -100]\n",
        "        for prediction, label in zip(predictions, labels)\n",
        "    ]\n",
        "\n",
        "    # Calculate entity-level metrics via seqeval\n",
        "    results = seqeval.compute(predictions=true_predictions, references=true_labels)\n",
        "\n",
        "    # Flatten for token-level classification report\n",
        "    flat_true = [tag for sent in true_labels for tag in sent]\n",
        "    flat_pred = [tag for sent in true_predictions for tag in sent]\n",
        "    token_report = classification_report(flat_true, flat_pred, output_dict=True)\n",
        "\n",
        "    return {\n",
        "        \"precision\": results[\"overall_precision\"],\n",
        "        \"recall\": results[\"overall_recall\"],\n",
        "        \"f1\": results[\"overall_f1\"],\n",
        "        \"accuracy\": results[\"overall_accuracy\"],\n",
        "        \"token_precision\": token_report[\"weighted avg\"][\"precision\"],\n",
        "        \"token_recall\": token_report[\"weighted avg\"][\"recall\"],\n",
        "        \"token_f1\": token_report[\"weighted avg\"][\"f1-score\"],\n",
        "    }"
      ]
    },
    {
      "cell_type": "code",
      "execution_count": null,
      "metadata": {
        "execution": {
          "iopub.execute_input": "2025-05-04T15:41:36.639365Z",
          "iopub.status.busy": "2025-05-04T15:41:36.638979Z",
          "iopub.status.idle": "2025-05-04T15:44:24.221666Z",
          "shell.execute_reply": "2025-05-04T15:44:24.220748Z",
          "shell.execute_reply.started": "2025-05-04T15:41:36.639335Z"
        },
        "trusted": true,
        "id": "AHvH6IcjA0RG",
        "outputId": "058fb526-24cb-4673-858e-137658a22c8a"
      },
      "outputs": [
        {
          "name": "stdout",
          "output_type": "stream",
          "text": [
            "Trainable layers:\n",
            "bert.encoder.layer.9.attention.self.query.weight\n",
            "bert.encoder.layer.9.attention.self.query.bias\n",
            "bert.encoder.layer.9.attention.self.key.weight\n",
            "bert.encoder.layer.9.attention.self.key.bias\n",
            "bert.encoder.layer.9.attention.self.value.weight\n",
            "bert.encoder.layer.9.attention.self.value.bias\n",
            "bert.encoder.layer.9.attention.output.dense.weight\n",
            "bert.encoder.layer.9.attention.output.dense.bias\n",
            "bert.encoder.layer.9.attention.output.LayerNorm.weight\n",
            "bert.encoder.layer.9.attention.output.LayerNorm.bias\n",
            "bert.encoder.layer.9.intermediate.dense.weight\n",
            "bert.encoder.layer.9.intermediate.dense.bias\n",
            "bert.encoder.layer.9.output.dense.weight\n",
            "bert.encoder.layer.9.output.dense.bias\n",
            "bert.encoder.layer.9.output.LayerNorm.weight\n",
            "bert.encoder.layer.9.output.LayerNorm.bias\n",
            "bert.encoder.layer.10.attention.self.query.weight\n",
            "bert.encoder.layer.10.attention.self.query.bias\n",
            "bert.encoder.layer.10.attention.self.key.weight\n",
            "bert.encoder.layer.10.attention.self.key.bias\n",
            "bert.encoder.layer.10.attention.self.value.weight\n",
            "bert.encoder.layer.10.attention.self.value.bias\n",
            "bert.encoder.layer.10.attention.output.dense.weight\n",
            "bert.encoder.layer.10.attention.output.dense.bias\n",
            "bert.encoder.layer.10.attention.output.LayerNorm.weight\n",
            "bert.encoder.layer.10.attention.output.LayerNorm.bias\n",
            "bert.encoder.layer.10.intermediate.dense.weight\n",
            "bert.encoder.layer.10.intermediate.dense.bias\n",
            "bert.encoder.layer.10.output.dense.weight\n",
            "bert.encoder.layer.10.output.dense.bias\n",
            "bert.encoder.layer.10.output.LayerNorm.weight\n",
            "bert.encoder.layer.10.output.LayerNorm.bias\n",
            "bert.encoder.layer.11.attention.self.query.weight\n",
            "bert.encoder.layer.11.attention.self.query.bias\n",
            "bert.encoder.layer.11.attention.self.key.weight\n",
            "bert.encoder.layer.11.attention.self.key.bias\n",
            "bert.encoder.layer.11.attention.self.value.weight\n",
            "bert.encoder.layer.11.attention.self.value.bias\n",
            "bert.encoder.layer.11.attention.output.dense.weight\n",
            "bert.encoder.layer.11.attention.output.dense.bias\n",
            "bert.encoder.layer.11.attention.output.LayerNorm.weight\n",
            "bert.encoder.layer.11.attention.output.LayerNorm.bias\n",
            "bert.encoder.layer.11.intermediate.dense.weight\n",
            "bert.encoder.layer.11.intermediate.dense.bias\n",
            "bert.encoder.layer.11.output.dense.weight\n",
            "bert.encoder.layer.11.output.dense.bias\n",
            "bert.encoder.layer.11.output.LayerNorm.weight\n",
            "bert.encoder.layer.11.output.LayerNorm.bias\n",
            "classifier.weight\n",
            "classifier.bias\n"
          ]
        },
        {
          "name": "stderr",
          "output_type": "stream",
          "text": [
            "/usr/local/lib/python3.10/dist-packages/transformers/training_args.py:1575: FutureWarning: `evaluation_strategy` is deprecated and will be removed in version 4.46 of 🤗 Transformers. Use `eval_strategy` instead\n",
            "  warnings.warn(\n",
            "<ipython-input-11-54e722616e5f>:36: FutureWarning: `tokenizer` is deprecated and will be removed in version 5.0.0 for `Trainer.__init__`. Use `processing_class` instead.\n",
            "  trainer = Trainer(\n",
            "/usr/local/lib/python3.10/dist-packages/torch/nn/parallel/_functions.py:71: UserWarning: Was asked to gather along dimension 0, but all input tensors were scalars; will instead unsqueeze and return a vector.\n",
            "  warnings.warn(\n"
          ]
        },
        {
          "data": {
            "text/html": [
              "\n",
              "    <div>\n",
              "      \n",
              "      <progress value='470' max='470' style='width:300px; height:20px; vertical-align: middle;'></progress>\n",
              "      [470/470 02:45, Epoch 5/5]\n",
              "    </div>\n",
              "    <table border=\"1\" class=\"dataframe\">\n",
              "  <thead>\n",
              " <tr style=\"text-align: left;\">\n",
              "      <th>Epoch</th>\n",
              "      <th>Training Loss</th>\n",
              "      <th>Validation Loss</th>\n",
              "      <th>Precision</th>\n",
              "      <th>Recall</th>\n",
              "      <th>F1</th>\n",
              "      <th>Accuracy</th>\n",
              "      <th>Token Precision</th>\n",
              "      <th>Token Recall</th>\n",
              "      <th>Token F1</th>\n",
              "    </tr>\n",
              "  </thead>\n",
              "  <tbody>\n",
              "    <tr>\n",
              "      <td>1</td>\n",
              "      <td>No log</td>\n",
              "      <td>0.215013</td>\n",
              "      <td>0.614835</td>\n",
              "      <td>0.632602</td>\n",
              "      <td>0.623592</td>\n",
              "      <td>0.920680</td>\n",
              "      <td>0.917134</td>\n",
              "      <td>0.920680</td>\n",
              "      <td>0.917751</td>\n",
              "    </tr>\n",
              "    <tr>\n",
              "      <td>2</td>\n",
              "      <td>0.588100</td>\n",
              "      <td>0.188065</td>\n",
              "      <td>0.661814</td>\n",
              "      <td>0.668856</td>\n",
              "      <td>0.665317</td>\n",
              "      <td>0.928788</td>\n",
              "      <td>0.925184</td>\n",
              "      <td>0.928788</td>\n",
              "      <td>0.926567</td>\n",
              "    </tr>\n",
              "    <tr>\n",
              "      <td>3</td>\n",
              "      <td>0.202100</td>\n",
              "      <td>0.180470</td>\n",
              "      <td>0.668120</td>\n",
              "      <td>0.704716</td>\n",
              "      <td>0.685930</td>\n",
              "      <td>0.931745</td>\n",
              "      <td>0.930045</td>\n",
              "      <td>0.931745</td>\n",
              "      <td>0.930752</td>\n",
              "    </tr>\n",
              "    <tr>\n",
              "      <td>4</td>\n",
              "      <td>0.180400</td>\n",
              "      <td>0.180627</td>\n",
              "      <td>0.652744</td>\n",
              "      <td>0.738999</td>\n",
              "      <td>0.693199</td>\n",
              "      <td>0.932048</td>\n",
              "      <td>0.934040</td>\n",
              "      <td>0.932048</td>\n",
              "      <td>0.932923</td>\n",
              "    </tr>\n",
              "    <tr>\n",
              "      <td>5</td>\n",
              "      <td>0.173600</td>\n",
              "      <td>0.176097</td>\n",
              "      <td>0.671695</td>\n",
              "      <td>0.719427</td>\n",
              "      <td>0.694742</td>\n",
              "      <td>0.933635</td>\n",
              "      <td>0.932467</td>\n",
              "      <td>0.933635</td>\n",
              "      <td>0.932932</td>\n",
              "    </tr>\n",
              "  </tbody>\n",
              "</table><p>"
            ],
            "text/plain": [
              "<IPython.core.display.HTML object>"
            ]
          },
          "metadata": {},
          "output_type": "display_data"
        },
        {
          "name": "stderr",
          "output_type": "stream",
          "text": [
            "/usr/local/lib/python3.10/dist-packages/torch/nn/parallel/_functions.py:71: UserWarning: Was asked to gather along dimension 0, but all input tensors were scalars; will instead unsqueeze and return a vector.\n",
            "  warnings.warn(\n",
            "/usr/local/lib/python3.10/dist-packages/torch/nn/parallel/_functions.py:71: UserWarning: Was asked to gather along dimension 0, but all input tensors were scalars; will instead unsqueeze and return a vector.\n",
            "  warnings.warn(\n",
            "/usr/local/lib/python3.10/dist-packages/torch/nn/parallel/_functions.py:71: UserWarning: Was asked to gather along dimension 0, but all input tensors were scalars; will instead unsqueeze and return a vector.\n",
            "  warnings.warn(\n",
            "/usr/local/lib/python3.10/dist-packages/torch/nn/parallel/_functions.py:71: UserWarning: Was asked to gather along dimension 0, but all input tensors were scalars; will instead unsqueeze and return a vector.\n",
            "  warnings.warn(\n",
            "/usr/local/lib/python3.10/dist-packages/torch/nn/parallel/_functions.py:71: UserWarning: Was asked to gather along dimension 0, but all input tensors were scalars; will instead unsqueeze and return a vector.\n",
            "  warnings.warn(\n"
          ]
        },
        {
          "data": {
            "text/plain": [
              "TrainOutput(global_step=470, training_loss=0.2681706793764804, metrics={'train_runtime': 167.0755, 'train_samples_per_second': 89.989, 'train_steps_per_second': 2.813, 'total_flos': 982193582135040.0, 'train_loss': 0.2681706793764804, 'epoch': 5.0})"
            ]
          },
          "execution_count": 11,
          "metadata": {},
          "output_type": "execute_result"
        }
      ],
      "source": [
        "# Verify freezing worked\n",
        "print(\"Trainable layers:\")\n",
        "for name, param in model.named_parameters():\n",
        "    if param.requires_grad:\n",
        "        print(name)\n",
        "\n",
        "# Training arguments\n",
        "training_args = TrainingArguments(\n",
        "    output_dir=\"indobert-ner\",\n",
        "    learning_rate=2e-5,\n",
        "    per_device_train_batch_size=16,\n",
        "    per_device_eval_batch_size=32,\n",
        "    num_train_epochs=5,\n",
        "    weight_decay=0.01,\n",
        "    evaluation_strategy=\"epoch\",  # Consider switching to eval_strategy in future versions\n",
        "    save_strategy=\"epoch\",\n",
        "    warmup_ratio=0.1,\n",
        "    load_best_model_at_end=True,\n",
        "    metric_for_best_model=\"f1\",\n",
        "    report_to=\"none\",\n",
        "    logging_steps=100,\n",
        ")\n",
        "\n",
        "from torch.optim import AdamW\n",
        "\n",
        "# Create parameter groups with discriminative learning rates\n",
        "params = [\n",
        "    {\"params\": [p for n, p in model.named_parameters() if \"classifier\" in n], \"lr\": 5e-5},\n",
        "    {\"params\": [p for n, p in model.named_parameters() if \"encoder.layer.11\" in n], \"lr\": 3e-5},\n",
        "    {\"params\": [p for n, p in model.named_parameters() if \"encoder.layer.10\" in n], \"lr\": 3e-5},\n",
        "    {\"params\": [p for n, p in model.named_parameters() if \"encoder.layer.9\" in n], \"lr\": 3e-5},\n",
        "]\n",
        "optimizer = AdamW(params)\n",
        "\n",
        "# Create Trainer with custom optimizer (pass both model and optimizer)\n",
        "trainer = Trainer(\n",
        "    model=model,\n",
        "    args=training_args,\n",
        "    train_dataset=train_dataset,\n",
        "    eval_dataset=val_dataset,\n",
        "    tokenizer=tokenizer,\n",
        "    compute_metrics=compute_metrics,\n",
        "    optimizers=(optimizer, None),  # Pass our custom optimizer\n",
        ")\n",
        "\n",
        "# Train the model\n",
        "trainer.train()\n"
      ]
    },
    {
      "cell_type": "code",
      "execution_count": null,
      "metadata": {
        "execution": {
          "iopub.execute_input": "2025-05-04T15:44:29.519402Z",
          "iopub.status.busy": "2025-05-04T15:44:29.519087Z",
          "iopub.status.idle": "2025-05-04T15:44:32.285953Z",
          "shell.execute_reply": "2025-05-04T15:44:32.285282Z",
          "shell.execute_reply.started": "2025-05-04T15:44:29.519376Z"
        },
        "trusted": true,
        "id": "I9x4z7YMA0RG",
        "outputId": "c1959ff0-e26f-4ac4-a6e5-b446a12bee46"
      },
      "outputs": [
        {
          "name": "stderr",
          "output_type": "stream",
          "text": [
            "/usr/local/lib/python3.10/dist-packages/torch/nn/parallel/_functions.py:71: UserWarning: Was asked to gather along dimension 0, but all input tensors were scalars; will instead unsqueeze and return a vector.\n",
            "  warnings.warn(\n"
          ]
        },
        {
          "data": {
            "text/html": [],
            "text/plain": [
              "<IPython.core.display.HTML object>"
            ]
          },
          "metadata": {},
          "output_type": "display_data"
        },
        {
          "name": "stdout",
          "output_type": "stream",
          "text": [
            "\n",
            "Test Set Results:\n",
            "Token-level Precision: 0.9352\n",
            "Token-level Recall: 0.9355\n",
            "Token-level F1: 0.9352\n",
            "\n",
            "Entity-level Precision: 0.6727\n",
            "Entity-level Recall: 0.7221\n",
            "Entity-level F1: 0.6965\n"
          ]
        }
      ],
      "source": [
        "# Evaluate on test set\n",
        "test_results = trainer.predict(test_dataset)\n",
        "metrics = test_results.metrics\n",
        "print(\"\\nTest Set Results:\")\n",
        "# Note: The returned keys are automatically prefixed with \"test_\" when using predict()\n",
        "print(f\"Token-level Precision: {metrics['test_token_precision']:.4f}\")\n",
        "print(f\"Token-level Recall: {metrics['test_token_recall']:.4f}\")\n",
        "print(f\"Token-level F1: {metrics['test_token_f1']:.4f}\")\n",
        "print(f\"\\nEntity-level Precision: {metrics['test_precision']:.4f}\")\n",
        "print(f\"Entity-level Recall: {metrics['test_recall']:.4f}\")\n",
        "print(f\"Entity-level F1: {metrics['test_f1']:.4f}\")"
      ]
    },
    {
      "cell_type": "code",
      "execution_count": null,
      "metadata": {
        "execution": {
          "iopub.execute_input": "2025-05-04T15:44:32.287539Z",
          "iopub.status.busy": "2025-05-04T15:44:32.287139Z",
          "iopub.status.idle": "2025-05-04T15:44:33.119141Z",
          "shell.execute_reply": "2025-05-04T15:44:33.118142Z",
          "shell.execute_reply.started": "2025-05-04T15:44:32.287500Z"
        },
        "trusted": true,
        "id": "A6pwBN6nA0RG",
        "outputId": "64100f29-a493-4fe4-be13-3ab7a6600e9f"
      },
      "outputs": [
        {
          "name": "stdout",
          "output_type": "stream",
          "text": [
            "\n",
            "Detailed Token-Level Classification Report (All Tags):\n",
            "              precision    recall  f1-score   support\n",
            "\n",
            "    B-HSkill       0.71      0.65      0.68      1482\n",
            "    B-SSkill       0.79      0.85      0.82       858\n",
            "      B-Tech       0.87      0.88      0.87      1355\n",
            "    I-HSkill       0.63      0.66      0.64       978\n",
            "    I-SSkill       0.78      0.69      0.73       282\n",
            "      I-Tech       0.69      0.71      0.70       355\n",
            "           O       0.97      0.97      0.97     29422\n",
            "\n",
            "    accuracy                           0.94     34732\n",
            "   macro avg       0.78      0.77      0.77     34732\n",
            "weighted avg       0.94      0.94      0.94     34732\n",
            "\n"
          ]
        },
        {
          "data": {
            "image/png": "[encoded data removed]",
            "text/plain": [
              "<Figure size 1000x800 with 2 Axes>"
            ]
          },
          "metadata": {},
          "output_type": "display_data"
        }
      ],
      "source": [
        "predictions = np.argmax(test_results.predictions, axis=2)\n",
        "true_labels_matrix = test_results.label_ids\n",
        "\n",
        "# Filter out ignored labels (-100) and convert indices to tags\n",
        "true_predictions = [\n",
        "    [id2tag[p] for (p, l) in zip(prediction, label) if l != -100]\n",
        "    for prediction, label in zip(predictions, true_labels_matrix)\n",
        "]\n",
        "true_labels = [\n",
        "    [id2tag[l] for (p, l) in zip(prediction, label) if l != -100]\n",
        "    for prediction, label in zip(predictions, true_labels_matrix)\n",
        "]\n",
        "\n",
        "# Flatten token-level predictions and labels\n",
        "flat_true = [tag for sent in true_labels for tag in sent]\n",
        "flat_pred = [tag for sent in true_predictions for tag in sent]\n",
        "\n",
        "# Exclude tokens whose gold label is 'O'\n",
        "filtered_indices = [i for i, tag in enumerate(flat_true) if tag != \"O\"]\n",
        "flat_true_noO = [flat_true[i] for i in filtered_indices]\n",
        "flat_pred_noO = [flat_pred[i] for i in filtered_indices]\n",
        "# Set labels to all entity tags (excluding \"O\")\n",
        "entity_labels = [tag for tag in sorted(tag2id.keys()) if tag != \"O\"]\n",
        "\n",
        "# Token-level classification report (including 'O' tag)\n",
        "print(\"\\nDetailed Token-Level Classification Report (All Tags):\")\n",
        "print(classification_report(flat_true, flat_pred, target_names=sorted(tag2id.keys())))\n",
        "\n",
        "cm_token = confusion_matrix(flat_true_noO, flat_pred_noO, labels=entity_labels)\n",
        "plt.figure(figsize=(10, 8))\n",
        "sns.heatmap(cm_token, annot=True, fmt=\"d\", cmap=\"Blues\", xticklabels=entity_labels, yticklabels=entity_labels)\n",
        "plt.xlabel(\"Predicted\")\n",
        "plt.ylabel(\"True\")\n",
        "plt.title(\"Token-Level NER Confusion Matrix (Excluding 'O')\")\n",
        "plt.show()"
      ]
    },
    {
      "cell_type": "code",
      "execution_count": null,
      "metadata": {
        "execution": {
          "iopub.execute_input": "2025-05-04T15:44:33.120745Z",
          "iopub.status.busy": "2025-05-04T15:44:33.120460Z",
          "iopub.status.idle": "2025-05-04T15:44:33.968928Z",
          "shell.execute_reply": "2025-05-04T15:44:33.968104Z",
          "shell.execute_reply.started": "2025-05-04T15:44:33.120719Z"
        },
        "trusted": true,
        "id": "OGpqW5PEA0RG",
        "outputId": "9d305bda-457d-4c2f-e145-2127682433c9"
      },
      "outputs": [
        {
          "name": "stdout",
          "output_type": "stream",
          "text": [
            "\n",
            "Entity-Level Classification Report (seqeval):\n",
            "              precision    recall  f1-score   support\n",
            "\n",
            "      HSkill       0.62      0.56      0.59      1482\n",
            "      SSkill       0.75      0.81      0.78       858\n",
            "        Tech       0.80      0.82      0.81      1355\n",
            "\n",
            "   micro avg       0.72      0.71      0.72      3695\n",
            "   macro avg       0.72      0.73      0.73      3695\n",
            "weighted avg       0.72      0.71      0.71      3695\n",
            "\n"
          ]
        },
        {
          "data": {
            "image/png": "[encoded data removed]",
            "text/plain": [
              "<Figure size 1000x800 with 2 Axes>"
            ]
          },
          "metadata": {},
          "output_type": "display_data"
        }
      ],
      "source": [
        "# Extract true predictions and labels (removing padding labels -100)\n",
        "true_predictions = [\n",
        "    [id2tag[p] for (p, l) in zip(pred, label) if l != -100]\n",
        "    for pred, label in zip(np.argmax(test_results.predictions, axis=2), test_results.label_ids)\n",
        "]\n",
        "true_labels = [\n",
        "    [id2tag[l] for l in label if l != -100]\n",
        "    for label in test_results.label_ids\n",
        "]\n",
        "\n",
        "# Generate and print the seqeval entity-level classification report\n",
        "print(\"\\nEntity-Level Classification Report (seqeval):\")\n",
        "print(seqeval_classification_report(true_labels, true_predictions, mode='strict', scheme=IOB2))\n",
        "\n",
        "# Define a helper function to extract entity types from a sequence.\n",
        "def get_entity_types(tag_sequence):\n",
        "    \"\"\"\n",
        "    Extracts entity types from a tag sequence.\n",
        "    When a tag starts with 'B-', it registers a new entity.\n",
        "    For simplicity, this function only collects the types (i.e., without their span positions).\n",
        "    \"\"\"\n",
        "    entities = []\n",
        "    for tag in tag_sequence:\n",
        "        if tag.startswith('B-'):\n",
        "            # Append the entity type (without the prefix \"B-\")\n",
        "            entities.append(tag[2:])\n",
        "    return entities\n",
        "\n",
        "# Build lists for the confusion matrix.\n",
        "y_true = []\n",
        "y_pred = []\n",
        "\n",
        "for gold_seq, pred_seq in zip(true_labels, true_predictions):\n",
        "    # Extract entity types from the current sentence.\n",
        "    gold_entities = get_entity_types(gold_seq)\n",
        "    pred_entities = get_entity_types(pred_seq)\n",
        "\n",
        "    # Determine the maximum number of entities between the two lists.\n",
        "    max_len = max(len(gold_entities), len(pred_entities))\n",
        "\n",
        "    # Pad the shorter list with the placeholder \"None\".\n",
        "    if len(gold_entities) < max_len:\n",
        "        gold_entities = gold_entities + [\"None\"] * (max_len - len(gold_entities))\n",
        "    if len(pred_entities) < max_len:\n",
        "        pred_entities = pred_entities + [\"None\"] * (max_len - len(pred_entities))\n",
        "\n",
        "    # Extend the overall lists.\n",
        "    y_true.extend(gold_entities)\n",
        "    y_pred.extend(pred_entities)\n",
        "\n",
        "# Optionally: Remove the \"None\" placeholder from the labels list if you prefer to focus only on recognized entity types.\n",
        "all_entity_types = sorted(set(y_true + y_pred))\n",
        "if \"None\" in all_entity_types:\n",
        "    all_entity_types.remove(\"None\")\n",
        "\n",
        "# Compute the confusion matrix using the list of entity types.\n",
        "cm = confusion_matrix(y_true, y_pred, labels=all_entity_types)\n",
        "\n",
        "# Plot the confusion matrix.\n",
        "plt.figure(figsize=(10, 8))\n",
        "sns.heatmap(\n",
        "    cm,\n",
        "    annot=True,\n",
        "    fmt='d',\n",
        "    cmap='Blues',\n",
        "    xticklabels=all_entity_types,\n",
        "    yticklabels=all_entity_types\n",
        ")\n",
        "plt.title('Entity Type Confusion Matrix')\n",
        "plt.xlabel('Predicted')\n",
        "plt.ylabel('Actual')\n",
        "plt.xticks(rotation=45)\n",
        "plt.yticks(rotation=0)\n",
        "plt.tight_layout()\n",
        "plt.show()\n"
      ]
    }
  ],
  "metadata": {
    "colab": {
      "collapsed_sections": [
        "sE7Vo8sop6dJ",
        "WXLNk6h9qngn"
      ],
      "provenance": []
    },
    "kaggle": {
      "accelerator": "nvidiaTeslaT4",
      "dataSources": [
        {
          "datasetId": 6887539,
          "sourceId": 11055188,
          "sourceType": "datasetVersion"
        }
      ],
      "dockerImageVersionId": 30919,
      "isGpuEnabled": true,
      "isInternetEnabled": true,
      "language": "python",
      "sourceType": "notebook"
    },
    "kernelspec": {
      "display_name": "Python 3",
      "language": "python",
      "name": "python3"
    },
    "language_info": {
      "codemirror_mode": {
        "name": "ipython",
        "version": 3
      },
      "file_extension": ".py",
      "mimetype": "text/x-python",
      "name": "python",
      "nbconvert_exporter": "python",
      "pygments_lexer": "ipython3",
      "version": "3.10.12"
    }
  },
  "nbformat": 4,
  "nbformat_minor": 0
}