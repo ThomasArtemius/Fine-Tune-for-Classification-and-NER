{
  "metadata": {
    "kernelspec": {
      "language": "python",
      "display_name": "Python 3",
      "name": "python3"
    },
    "language_info": {
      "name": "python",
      "version": "3.11.11",
      "mimetype": "text/x-python",
      "codemirror_mode": {
        "name": "ipython",
        "version": 3
      },
      "pygments_lexer": "ipython3",
      "nbconvert_exporter": "python",
      "file_extension": ".py"
    },
    "kaggle": {
      "accelerator": "nvidiaTeslaT4",
      "dataSources": [
        {
          "sourceId": 10958587,
          "sourceType": "datasetVersion",
          "datasetId": 6817451
        }
      ],
      "dockerImageVersionId": 31011,
      "isInternetEnabled": true,
      "language": "python",
      "sourceType": "notebook",
      "isGpuEnabled": true
    },
    "colab": {
      "provenance": []
    }
  },
  "nbformat_minor": 0,
  "nbformat": 4,
  "cells": [
    {
      "cell_type": "markdown",
      "source": [
        "# Setup and Imports"
      ],
      "metadata": {
        "id": "G4CBmyME9xpI"
      }
    },
    {
      "cell_type": "code",
      "source": [
        "!pip install seqeval evaluate peft --quiet\n",
        "\n",
        "import pandas as pd\n",
        "import numpy as np\n",
        "from sklearn.model_selection import train_test_split\n",
        "from sklearn.metrics import classification_report, confusion_matrix\n",
        "import matplotlib.pyplot as plt\n",
        "import seaborn as sns\n",
        "from transformers import AutoTokenizer, AutoModelForTokenClassification, TrainingArguments, Trainer\n",
        "from datasets import Dataset\n",
        "import evaluate\n",
        "import torch\n",
        "from seqeval.metrics import classification_report as seqeval_classification_report\n",
        "from seqeval.scheme import IOB2\n",
        "from peft import LoraConfig, get_peft_model"
      ],
      "metadata": {
        "trusted": true,
        "execution": {
          "iopub.status.busy": "2025-05-06T04:43:37.566531Z",
          "iopub.execute_input": "2025-05-06T04:43:37.566818Z",
          "iopub.status.idle": "2025-05-06T04:43:40.870008Z",
          "shell.execute_reply.started": "2025-05-06T04:43:37.566798Z",
          "shell.execute_reply": "2025-05-06T04:43:40.869050Z"
        },
        "id": "LswTeixq9xpM"
      },
      "outputs": [],
      "execution_count": null
    },
    {
      "cell_type": "markdown",
      "source": [
        "# Data Loading and Preprocessing"
      ],
      "metadata": {
        "id": "5KTClMIp9xpQ"
      }
    },
    {
      "cell_type": "code",
      "source": [
        "# Load and preprocess the NER dataset, then split into train/val/test sets\n",
        "file_path = \"/kaggle/input/nerskill-id/NERSkill.Id.txt\"\n",
        "df = pd.read_csv(file_path, delimiter=\"\\t\", names=[\"Sentence #\", \"Word\", \"Tag\"], skiprows=1)\n",
        "df[\"Sentence #\"] = df[\"Sentence #\"].ffill()\n",
        "\n",
        "# Convert to sentences with (word, tag) pairs\n",
        "sentences = df.groupby(\"Sentence #\", group_keys=False).apply(\n",
        "    lambda s: list(zip(s[\"Word\"], s[\"Tag\"]))).tolist()\n",
        "\n",
        "# Split data\n",
        "train_sentences, temp_sentences = train_test_split(sentences, test_size=0.3, random_state=42)\n",
        "val_sentences, test_sentences = train_test_split(temp_sentences, test_size=1/3, random_state=42)\n",
        "\n",
        "# Prepare tag mappings (ensure all tags are included)\n",
        "all_tags = sorted(set(tag for sentence in sentences for _, tag in sentence))\n",
        "tag2id = {tag: i for i, tag in enumerate(all_tags)}\n",
        "id2tag = {i: tag for i, tag in enumerate(all_tags)}"
      ],
      "metadata": {
        "trusted": true,
        "execution": {
          "iopub.status.busy": "2025-05-06T04:43:40.871603Z",
          "iopub.execute_input": "2025-05-06T04:43:40.871850Z",
          "iopub.status.idle": "2025-05-06T04:43:41.476729Z",
          "shell.execute_reply.started": "2025-05-06T04:43:40.871829Z",
          "shell.execute_reply": "2025-05-06T04:43:41.475870Z"
        },
        "id": "dHuV3JFb9xpS"
      },
      "outputs": [],
      "execution_count": null
    },
    {
      "cell_type": "markdown",
      "source": [
        "# Tokenizer and Dataset Preparation"
      ],
      "metadata": {
        "id": "eMEnkDcD9xpU"
      }
    },
    {
      "cell_type": "code",
      "source": [
        "# Initialize IndoBERT tokenizer and prepare Hugging Face datasets\n",
        "model_checkpoint = \"nreimers/MiniLM-L6-H384-uncased\"\n",
        "tokenizer = AutoTokenizer.from_pretrained(model_checkpoint)\n",
        "\n",
        "# Tokenize and align labels\n",
        "def tokenize_and_align_labels(examples):\n",
        "    tokenized_inputs = tokenizer(\n",
        "        examples[\"tokens\"],\n",
        "        truncation=True,\n",
        "        is_split_into_words=True,\n",
        "        padding=\"max_length\",\n",
        "        max_length=128\n",
        "    )\n",
        "\n",
        "    labels = []\n",
        "    for i, label in enumerate(examples[\"ner_tags\"]):\n",
        "        word_ids = tokenized_inputs.word_ids(batch_index=i)\n",
        "        previous_word_idx = None\n",
        "        label_ids = []\n",
        "        for word_idx in word_ids:\n",
        "            if word_idx is None:\n",
        "                label_ids.append(-100)\n",
        "            elif word_idx != previous_word_idx:\n",
        "                label_ids.append(label[word_idx])\n",
        "            else:\n",
        "                label_ids.append(-100)\n",
        "            previous_word_idx = word_idx\n",
        "        labels.append(label_ids)\n",
        "\n",
        "    tokenized_inputs[\"labels\"] = labels\n",
        "    return tokenized_inputs\n",
        "\n",
        "# Convert to Hugging Face Dataset format\n",
        "def prepare_dataset(sentences):\n",
        "    tokens = [[word for word, _ in sentence] for sentence in sentences]\n",
        "    ner_tags = [[tag2id[tag] for _, tag in sentence] for sentence in sentences]\n",
        "\n",
        "    return Dataset.from_dict({\n",
        "        \"tokens\": tokens,\n",
        "        \"ner_tags\": ner_tags\n",
        "    })\n",
        "\n",
        "train_dataset = prepare_dataset(train_sentences).map(tokenize_and_align_labels, batched=True)\n",
        "val_dataset = prepare_dataset(val_sentences).map(tokenize_and_align_labels, batched=True)\n",
        "test_dataset = prepare_dataset(test_sentences).map(tokenize_and_align_labels, batched=True)"
      ],
      "metadata": {
        "trusted": true,
        "execution": {
          "iopub.status.busy": "2025-05-06T04:43:41.477605Z",
          "iopub.execute_input": "2025-05-06T04:43:41.478148Z",
          "iopub.status.idle": "2025-05-06T04:43:46.023609Z",
          "shell.execute_reply.started": "2025-05-06T04:43:41.478122Z",
          "shell.execute_reply": "2025-05-06T04:43:46.022914Z"
        },
        "id": "b1Dy7nLt9xpV"
      },
      "outputs": [],
      "execution_count": null
    },
    {
      "cell_type": "markdown",
      "source": [
        "# Model and LoRA Configuration"
      ],
      "metadata": {
        "id": "yneHOpVu9xpX"
      }
    },
    {
      "cell_type": "code",
      "source": [
        "# Load IndoBERT model and configure LoRA with PEFT\n",
        "model = AutoModelForTokenClassification.from_pretrained(\n",
        "    model_checkpoint,\n",
        "    num_labels=len(tag2id),\n",
        "    id2label=id2tag,\n",
        "    label2id=tag2id\n",
        ")\n",
        "\n",
        "# Configure LoRA\n",
        "lora_config = LoraConfig(\n",
        "    task_type=\"TOKEN_CLS\",\n",
        "    r=8,  # Rank of the low-rank matrices\n",
        "    lora_alpha=16,  # Scaling factor (corrected from lora_alpha ARCHI=16)\n",
        "    lora_dropout=0.1,  # Dropout rate for LoRA\n",
        "    target_modules=[\"query\", \"value\"]  # Modules to apply LoRA (BERT-specific)\n",
        ")\n",
        "\n",
        "# Apply LoRA to the model\n",
        "model = get_peft_model(model, lora_config)\n",
        "\n",
        "# Print trainable parameters to confirm\n",
        "model.print_trainable_parameters()"
      ],
      "metadata": {
        "trusted": true,
        "execution": {
          "iopub.status.busy": "2025-05-06T04:43:46.025023Z",
          "iopub.execute_input": "2025-05-06T04:43:46.025223Z",
          "iopub.status.idle": "2025-05-06T04:43:47.075788Z",
          "shell.execute_reply.started": "2025-05-06T04:43:46.025207Z",
          "shell.execute_reply": "2025-05-06T04:43:47.075052Z"
        },
        "id": "4mIeMCXf9xpY"
      },
      "outputs": [],
      "execution_count": null
    },
    {
      "cell_type": "markdown",
      "source": [
        "# Metrics and Training Setup"
      ],
      "metadata": {
        "id": "zON7XKAx9xpa"
      }
    },
    {
      "cell_type": "code",
      "source": [
        "# Define metrics, training arguments, and initialize Trainer\n",
        "seqeval = evaluate.load(\"seqeval\")\n",
        "\n",
        "def compute_metrics(p):\n",
        "    predictions, labels = p\n",
        "    predictions = np.argmax(predictions, axis=2)\n",
        "\n",
        "    # Remove ignored index (-100) and convert indices to tag strings\n",
        "    true_predictions = [\n",
        "        [id2tag[p] for (p, l) in zip(prediction, label) if l != -100]\n",
        "        for prediction, label in zip(predictions, labels)\n",
        "    ]\n",
        "    true_labels = [\n",
        "        [id2tag[l] for (p, l) in zip(prediction, label) if l != -100]\n",
        "        for prediction, label in zip(predictions, labels)\n",
        "    ]\n",
        "\n",
        "    # Calculate entity-level metrics via seqeval\n",
        "    results = seqeval.compute(predictions=true_predictions, references=true_labels)\n",
        "\n",
        "    # Flatten for token-level classification report\n",
        "    flat_true = [tag for sent in true_labels for tag in sent]\n",
        "    flat_pred = [tag for sent in true_predictions for tag in sent]\n",
        "    token_report = classification_report(flat_true, flat_pred, output_dict=True)\n",
        "\n",
        "    return {\n",
        "        \"precision\": results[\"overall_precision\"],\n",
        "        \"recall\": results[\"overall_recall\"],\n",
        "        \"f1\": results[\"overall_f1\"],\n",
        "        \"accuracy\": results[\"overall_accuracy\"],\n",
        "        \"token_precision\": token_report[\"weighted avg\"][\"precision\"],\n",
        "        \"token_recall\": token_report[\"weighted avg\"][\"recall\"],\n",
        "        \"token_f1\": token_report[\"weighted avg\"][\"f1-score\"]\n",
        "    }\n",
        "\n",
        "# Training arguments\n",
        "training_args = TrainingArguments(\n",
        "    output_dir=\"sbert-ner-peft\",\n",
        "    learning_rate=2e-4,\n",
        "    per_device_train_batch_size=16,\n",
        "    per_device_eval_batch_size=32,\n",
        "    num_train_epochs=3,\n",
        "    weight_decay=0.01,\n",
        "    eval_strategy=\"epoch\",\n",
        "    save_strategy=\"epoch\",\n",
        "    load_best_model_at_end=True,\n",
        "    metric_for_best_model=\"f1\",\n",
        "    report_to=\"none\"\n",
        ")\n",
        "\n",
        "# Trainer\n",
        "trainer = Trainer(\n",
        "    model=model,\n",
        "    args=training_args,\n",
        "    train_dataset=train_dataset,\n",
        "    eval_dataset=val_dataset,\n",
        "    tokenizer=tokenizer,\n",
        "    compute_metrics=compute_metrics\n",
        ")"
      ],
      "metadata": {
        "trusted": true,
        "execution": {
          "iopub.status.busy": "2025-05-06T04:43:47.076624Z",
          "iopub.execute_input": "2025-05-06T04:43:47.077107Z",
          "iopub.status.idle": "2025-05-06T04:43:48.313464Z",
          "shell.execute_reply.started": "2025-05-06T04:43:47.077080Z",
          "shell.execute_reply": "2025-05-06T04:43:48.312752Z"
        },
        "id": "pgMHSyv09xpc"
      },
      "outputs": [],
      "execution_count": null
    },
    {
      "cell_type": "markdown",
      "source": [
        "# Training and Evaluation"
      ],
      "metadata": {
        "id": "tFXr457M9xpe"
      }
    },
    {
      "cell_type": "code",
      "source": [
        "# Train the model and evaluate on the test set\n",
        "trainer.train()\n",
        "\n",
        "# Evaluate on test set\n",
        "test_results = trainer.predict(test_dataset)\n",
        "metrics = test_results.metrics\n",
        "print(\"\\nTest Set Results:\")\n",
        "print(f\"Token-level Precision: {metrics['test_token_precision']:.4f}\")\n",
        "print(f\"Token-level Recall: {metrics['test_token_recall']:.4f}\")\n",
        "print(f\"Token-level F1: {metrics['test_token_f1']:.4f}\")\n",
        "print(f\"\\nEntity-level Precision: {metrics['test_precision']:.4f}\")\n",
        "print(f\"Entity-level Recall: {metrics['test_recall']:.4f}\")\n",
        "print(f\"Entity-level F1: {metrics['test_f1']:.4f}\")"
      ],
      "metadata": {
        "trusted": true,
        "execution": {
          "iopub.status.busy": "2025-05-06T04:43:48.314512Z",
          "iopub.execute_input": "2025-05-06T04:43:48.314697Z",
          "iopub.status.idle": "2025-05-06T04:44:15.614640Z",
          "shell.execute_reply.started": "2025-05-06T04:43:48.314683Z",
          "shell.execute_reply": "2025-05-06T04:44:15.614033Z"
        },
        "colab": {
          "referenced_widgets": [
            "b95ac144f2134313810c4040ba584a5e"
          ]
        },
        "id": "Jo5GiZVo9xpe",
        "outputId": "d6864ee3-5a34-4736-8315-831ab9ef1432"
      },
      "outputs": [
        {
          "output_type": "display_data",
          "data": {
            "text/plain": "model.safetensors:   0%|          | 0.00/90.9M [00:00<?, ?B/s]",
            "application/vnd.jupyter.widget-view+json": {
              "version_major": 2,
              "version_minor": 0,
              "model_id": "b95ac144f2134313810c4040ba584a5e"
            }
          },
          "metadata": {}
        },
        {
          "name": "stderr",
          "text": "/usr/local/lib/python3.11/dist-packages/torch/nn/parallel/_functions.py:71: UserWarning: Was asked to gather along dimension 0, but all input tensors were scalars; will instead unsqueeze and return a vector.\n  warnings.warn(\n",
          "output_type": "stream"
        },
        {
          "output_type": "display_data",
          "data": {
            "text/plain": "<IPython.core.display.HTML object>",
            "text/html": "\n    <div>\n      \n      <progress value='282' max='282' style='width:300px; height:20px; vertical-align: middle;'></progress>\n      [282/282 00:25, Epoch 3/3]\n    </div>\n    <table border=\"1\" class=\"dataframe\">\n  <thead>\n <tr style=\"text-align: left;\">\n      <th>Epoch</th>\n      <th>Training Loss</th>\n      <th>Validation Loss</th>\n      <th>Precision</th>\n      <th>Recall</th>\n      <th>F1</th>\n      <th>Accuracy</th>\n      <th>Token Precision</th>\n      <th>Token Recall</th>\n      <th>Token F1</th>\n    </tr>\n  </thead>\n  <tbody>\n    <tr>\n      <td>1</td>\n      <td>No log</td>\n      <td>0.579411</td>\n      <td>0.000000</td>\n      <td>0.000000</td>\n      <td>0.000000</td>\n      <td>0.854706</td>\n      <td>0.730523</td>\n      <td>0.854706</td>\n      <td>0.787751</td>\n    </tr>\n    <tr>\n      <td>2</td>\n      <td>No log</td>\n      <td>0.469589</td>\n      <td>0.386963</td>\n      <td>0.174958</td>\n      <td>0.240967</td>\n      <td>0.870331</td>\n      <td>0.809227</td>\n      <td>0.870331</td>\n      <td>0.823617</td>\n    </tr>\n    <tr>\n      <td>3</td>\n      <td>No log</td>\n      <td>0.449917</td>\n      <td>0.362040</td>\n      <td>0.224080</td>\n      <td>0.276824</td>\n      <td>0.873843</td>\n      <td>0.826315</td>\n      <td>0.873843</td>\n      <td>0.832089</td>\n    </tr>\n  </tbody>\n</table><p>"
          },
          "metadata": {}
        },
        {
          "name": "stderr",
          "text": "/usr/local/lib/python3.11/dist-packages/seqeval/metrics/v1.py:57: UndefinedMetricWarning: Precision and F-score are ill-defined and being set to 0.0 in labels with no predicted samples. Use `zero_division` parameter to control this behavior.\n  _warn_prf(average, modifier, msg_start, len(result))\n/usr/local/lib/python3.11/dist-packages/seqeval/metrics/v1.py:57: UndefinedMetricWarning: Precision and F-score are ill-defined and being set to 0.0 due to no predicted samples. Use `zero_division` parameter to control this behavior.\n  _warn_prf(average, modifier, msg_start, len(result))\n/usr/local/lib/python3.11/dist-packages/sklearn/metrics/_classification.py:1344: UndefinedMetricWarning: Precision and F-score are ill-defined and being set to 0.0 in labels with no predicted samples. Use `zero_division` parameter to control this behavior.\n  _warn_prf(average, modifier, msg_start, len(result))\n/usr/local/lib/python3.11/dist-packages/sklearn/metrics/_classification.py:1344: UndefinedMetricWarning: Precision and F-score are ill-defined and being set to 0.0 in labels with no predicted samples. Use `zero_division` parameter to control this behavior.\n  _warn_prf(average, modifier, msg_start, len(result))\n/usr/local/lib/python3.11/dist-packages/sklearn/metrics/_classification.py:1344: UndefinedMetricWarning: Precision and F-score are ill-defined and being set to 0.0 in labels with no predicted samples. Use `zero_division` parameter to control this behavior.\n  _warn_prf(average, modifier, msg_start, len(result))\n/usr/local/lib/python3.11/dist-packages/torch/nn/parallel/_functions.py:71: UserWarning: Was asked to gather along dimension 0, but all input tensors were scalars; will instead unsqueeze and return a vector.\n  warnings.warn(\n/usr/local/lib/python3.11/dist-packages/seqeval/metrics/v1.py:57: UndefinedMetricWarning: Precision and F-score are ill-defined and being set to 0.0 in labels with no predicted samples. Use `zero_division` parameter to control this behavior.\n  _warn_prf(average, modifier, msg_start, len(result))\n/usr/local/lib/python3.11/dist-packages/sklearn/metrics/_classification.py:1344: UndefinedMetricWarning: Precision and F-score are ill-defined and being set to 0.0 in labels with no predicted samples. Use `zero_division` parameter to control this behavior.\n  _warn_prf(average, modifier, msg_start, len(result))\n/usr/local/lib/python3.11/dist-packages/sklearn/metrics/_classification.py:1344: UndefinedMetricWarning: Precision and F-score are ill-defined and being set to 0.0 in labels with no predicted samples. Use `zero_division` parameter to control this behavior.\n  _warn_prf(average, modifier, msg_start, len(result))\n/usr/local/lib/python3.11/dist-packages/sklearn/metrics/_classification.py:1344: UndefinedMetricWarning: Precision and F-score are ill-defined and being set to 0.0 in labels with no predicted samples. Use `zero_division` parameter to control this behavior.\n  _warn_prf(average, modifier, msg_start, len(result))\n/usr/local/lib/python3.11/dist-packages/torch/nn/parallel/_functions.py:71: UserWarning: Was asked to gather along dimension 0, but all input tensors were scalars; will instead unsqueeze and return a vector.\n  warnings.warn(\n/usr/local/lib/python3.11/dist-packages/seqeval/metrics/v1.py:57: UndefinedMetricWarning: Precision and F-score are ill-defined and being set to 0.0 in labels with no predicted samples. Use `zero_division` parameter to control this behavior.\n  _warn_prf(average, modifier, msg_start, len(result))\n/usr/local/lib/python3.11/dist-packages/sklearn/metrics/_classification.py:1344: UndefinedMetricWarning: Precision and F-score are ill-defined and being set to 0.0 in labels with no predicted samples. Use `zero_division` parameter to control this behavior.\n  _warn_prf(average, modifier, msg_start, len(result))\n/usr/local/lib/python3.11/dist-packages/sklearn/metrics/_classification.py:1344: UndefinedMetricWarning: Precision and F-score are ill-defined and being set to 0.0 in labels with no predicted samples. Use `zero_division` parameter to control this behavior.\n  _warn_prf(average, modifier, msg_start, len(result))\n/usr/local/lib/python3.11/dist-packages/sklearn/metrics/_classification.py:1344: UndefinedMetricWarning: Precision and F-score are ill-defined and being set to 0.0 in labels with no predicted samples. Use `zero_division` parameter to control this behavior.\n  _warn_prf(average, modifier, msg_start, len(result))\n/usr/local/lib/python3.11/dist-packages/torch/nn/parallel/_functions.py:71: UserWarning: Was asked to gather along dimension 0, but all input tensors were scalars; will instead unsqueeze and return a vector.\n  warnings.warn(\n",
          "output_type": "stream"
        },
        {
          "output_type": "display_data",
          "data": {
            "text/plain": "<IPython.core.display.HTML object>",
            "text/html": ""
          },
          "metadata": {}
        },
        {
          "name": "stderr",
          "text": "/usr/local/lib/python3.11/dist-packages/seqeval/metrics/v1.py:57: UndefinedMetricWarning: Precision and F-score are ill-defined and being set to 0.0 in labels with no predicted samples. Use `zero_division` parameter to control this behavior.\n  _warn_prf(average, modifier, msg_start, len(result))\n/usr/local/lib/python3.11/dist-packages/sklearn/metrics/_classification.py:1344: UndefinedMetricWarning: Precision and F-score are ill-defined and being set to 0.0 in labels with no predicted samples. Use `zero_division` parameter to control this behavior.\n  _warn_prf(average, modifier, msg_start, len(result))\n/usr/local/lib/python3.11/dist-packages/sklearn/metrics/_classification.py:1344: UndefinedMetricWarning: Precision and F-score are ill-defined and being set to 0.0 in labels with no predicted samples. Use `zero_division` parameter to control this behavior.\n  _warn_prf(average, modifier, msg_start, len(result))\n/usr/local/lib/python3.11/dist-packages/sklearn/metrics/_classification.py:1344: UndefinedMetricWarning: Precision and F-score are ill-defined and being set to 0.0 in labels with no predicted samples. Use `zero_division` parameter to control this behavior.\n  _warn_prf(average, modifier, msg_start, len(result))\n",
          "output_type": "stream"
        },
        {
          "name": "stdout",
          "text": "\nTest Set Results:\nToken-level Precision: 0.8158\nToken-level Recall: 0.8740\nToken-level F1: 0.8304\n\nEntity-level Precision: 0.3460\nEntity-level Recall: 0.2041\nEntity-level F1: 0.2568\n",
          "output_type": "stream"
        }
      ],
      "execution_count": null
    },
    {
      "cell_type": "markdown",
      "source": [
        "# Token-Level Evaluation and Visualization"
      ],
      "metadata": {
        "id": "LK0XSjxL9xpg"
      }
    },
    {
      "cell_type": "code",
      "source": [
        "# Generate detailed evaluation metrics and visualize confusion matrix\n",
        "predictions = np.argmax(test_results.predictions, axis=2)\n",
        "true_labels_matrix = test_results.label_ids\n",
        "\n",
        "# Filter out ignored labels (-100) and convert indices to tags\n",
        "true_predictions = [\n",
        "    [id2tag[p] for (p, l) in zip(prediction, label) if l != -100]\n",
        "    for prediction, label in zip(predictions, true_labels_matrix)\n",
        "]\n",
        "true_labels = [\n",
        "    [id2tag[l] for (p, l) in zip(prediction, label) if l != -100]\n",
        "    for prediction, label in zip(predictions, true_labels_matrix)\n",
        "]\n",
        "\n",
        "# Flatten token-level predictions and labels\n",
        "flat_true = [tag for sent in true_labels for tag in sent]\n",
        "flat_pred = [tag for sent in true_predictions for tag in sent]\n",
        "\n",
        "# Exclude tokens whose gold label is 'O'\n",
        "filtered_indices = [i for i, tag in enumerate(flat_true) if tag != \"O\"]\n",
        "flat_true_noO = [flat_true[i] for i in filtered_indices]\n",
        "flat_pred_noO = [flat_pred[i] for i in filtered_indices]\n",
        "entity_labels = [tag for tag in sorted(tag2id.keys()) if tag != \"O\"]\n",
        "\n",
        "# Token-level classification report (including 'O' tag)\n",
        "print(\"\\nDetailed Token-Level Classification Report (All Tags):\")\n",
        "print(classification_report(flat_true, flat_pred, target_names=sorted(tag2id.keys())))\n",
        "\n",
        "# Confusion matrix\n",
        "cm_token = confusion_matrix(flat_true_noO, flat_pred_noO, labels=entity_labels)\n",
        "plt.figure(figsize=(10, 8))\n",
        "sns.heatmap(cm_token, annot=True, fmt=\"d\", cmap=\"Blues\", xticklabels=entity_labels, yticklabels=entity_labels)\n",
        "plt.xlabel(\"Predicted\")\n",
        "plt.ylabel(\"True\")\n",
        "plt.title(\"Token-Level NER Confusion Matrix (Excluding 'O')\")\n",
        "plt.show()"
      ],
      "metadata": {
        "trusted": true,
        "execution": {
          "iopub.status.busy": "2025-05-06T04:44:15.615332Z",
          "iopub.execute_input": "2025-05-06T04:44:15.615595Z",
          "iopub.status.idle": "2025-05-06T04:44:16.116643Z",
          "shell.execute_reply.started": "2025-05-06T04:44:15.615571Z",
          "shell.execute_reply": "2025-05-06T04:44:16.116035Z"
        },
        "id": "oUWnXAHD9xph",
        "outputId": "7d8c60b8-9a02-494e-914a-a74a93c50785"
      },
      "outputs": [
        {
          "name": "stderr",
          "text": "/usr/local/lib/python3.11/dist-packages/sklearn/metrics/_classification.py:1344: UndefinedMetricWarning: Precision and F-score are ill-defined and being set to 0.0 in labels with no predicted samples. Use `zero_division` parameter to control this behavior.\n  _warn_prf(average, modifier, msg_start, len(result))\n",
          "output_type": "stream"
        },
        {
          "name": "stdout",
          "text": "\nDetailed Token-Level Classification Report (All Tags):\n",
          "output_type": "stream"
        },
        {
          "name": "stderr",
          "text": "/usr/local/lib/python3.11/dist-packages/sklearn/metrics/_classification.py:1344: UndefinedMetricWarning: Precision and F-score are ill-defined and being set to 0.0 in labels with no predicted samples. Use `zero_division` parameter to control this behavior.\n  _warn_prf(average, modifier, msg_start, len(result))\n/usr/local/lib/python3.11/dist-packages/sklearn/metrics/_classification.py:1344: UndefinedMetricWarning: Precision and F-score are ill-defined and being set to 0.0 in labels with no predicted samples. Use `zero_division` parameter to control this behavior.\n  _warn_prf(average, modifier, msg_start, len(result))\n",
          "output_type": "stream"
        },
        {
          "name": "stdout",
          "text": "              precision    recall  f1-score   support\n\n    B-HSkill       0.28      0.01      0.02       995\n    B-SSkill       0.00      0.00      0.00       458\n      B-Tech       0.48      0.68      0.56       943\n    I-HSkill       0.61      0.04      0.07       642\n    I-SSkill       0.00      0.00      0.00       145\n      I-Tech       0.00      0.00      0.00       267\n           O       0.90      0.99      0.94     20294\n\n    accuracy                           0.87     23744\n   macro avg       0.32      0.25      0.23     23744\nweighted avg       0.82      0.87      0.83     23744\n\n",
          "output_type": "stream"
        },
        {
          "output_type": "display_data",
          "data": {
            "text/plain": "<Figure size 1000x800 with 2 Axes>",
            "image/png": "[encoded data removed]"
          },
          "metadata": {}
        }
      ],
      "execution_count": null
    },
    {
      "cell_type": "markdown",
      "source": [
        "# Entity-Level Evaluation and Visualization"
      ],
      "metadata": {
        "id": "BxvcOyeb9xpi"
      }
    },
    {
      "cell_type": "code",
      "source": [
        "# Perform entity-level evaluation and visualize confusion matrix\n",
        "# Extract true predictions and labels (removing padding labels -100)\n",
        "true_predictions = [\n",
        "    [id2tag[p] for (p, l) in zip(pred, label) if l != -100]\n",
        "    for pred, label in zip(np.argmax(test_results.predictions, axis=2), test_results.label_ids)\n",
        "]\n",
        "true_labels = [\n",
        "    [id2tag[l] for l in label if l != -100]\n",
        "    for label in test_results.label_ids\n",
        "]\n",
        "\n",
        "# Generate and print the seqeval entity-level classification report\n",
        "print(\"\\nEntity-Level Classification Report (seqeval):\")\n",
        "print(seqeval_classification_report(true_labels, true_predictions, mode='strict', scheme=IOB2))\n",
        "\n",
        "# Define a helper function to extract entity types from a sequence\n",
        "def get_entity_types(tag_sequence):\n",
        "    \"\"\"\n",
        "    Extracts entity types from a tag sequence.\n",
        "    When a tag starts with 'B-', it registers a new entity.\n",
        "    For simplicity, this function only collects the types (i.e., without their span positions).\n",
        "    \"\"\"\n",
        "    entities = []\n",
        "    for tag in tag_sequence:\n",
        "        if tag.startswith('B-'):\n",
        "            # Append the entity type (without the prefix \"B-\")\n",
        "            entities.append(tag[2:])\n",
        "    return entities\n",
        "\n",
        "# Build lists for the confusion matrix\n",
        "y_true = []\n",
        "y_pred = []\n",
        "\n",
        "for gold_seq, pred_seq in zip(true_labels, true_predictions):\n",
        "    # Extract entity types from the current sentence\n",
        "    gold_entities = get_entity_types(gold_seq)\n",
        "    pred_entities = get_entity_types(pred_seq)\n",
        "\n",
        "    # Determine the maximum number of entities between the two lists\n",
        "    max_len = max(len(gold_entities), len(pred_entities))\n",
        "\n",
        "    # Pad the shorter list with the placeholder \"None\"\n",
        "    if len(gold_entities) < max_len:\n",
        "        gold_entities = gold_entities + [\"None\"] * (max_len - len(gold_entities))\n",
        "    if len(pred_entities) < max_len:\n",
        "        pred_entities = pred_entities + [\"None\"] * (max_len - len(pred_entities))\n",
        "\n",
        "    # Extend the overall lists\n",
        "    y_true.extend(gold_entities)\n",
        "    y_pred.extend(pred_entities)\n",
        "\n",
        "# Remove \"None\" placeholder from the labels list to focus on recognized entity types\n",
        "all_entity_types = sorted(set(y_true + y_pred))\n",
        "if \"None\" in all_entity_types:\n",
        "    all_entity_types.remove(\"None\")\n",
        "\n",
        "# Compute the confusion matrix using the list of entity types\n",
        "cm = confusion_matrix(y_true, y_pred, labels=all_entity_types)\n",
        "\n",
        "# Plot the confusion matrix\n",
        "plt.figure(figsize=(10, 8))\n",
        "sns.heatmap(\n",
        "    cm,\n",
        "    annot=True,\n",
        "    fmt='d',\n",
        "    cmap='Blues',\n",
        "    xticklabels=all_entity_types,\n",
        "    yticklabels=all_entity_types\n",
        ")\n",
        "plt.title('Entity Type Confusion Matrix')\n",
        "plt.xlabel('Predicted')\n",
        "plt.ylabel('Actual')\n",
        "plt.xticks(rotation=45)\n",
        "plt.yticks(rotation=0)\n",
        "plt.tight_layout()\n",
        "plt.show()"
      ],
      "metadata": {
        "trusted": true,
        "execution": {
          "iopub.status.busy": "2025-05-06T04:44:16.117267Z",
          "iopub.execute_input": "2025-05-06T04:44:16.117489Z",
          "iopub.status.idle": "2025-05-06T04:44:16.419370Z",
          "shell.execute_reply.started": "2025-05-06T04:44:16.117443Z",
          "shell.execute_reply": "2025-05-06T04:44:16.418668Z"
        },
        "id": "OnLJRNwE9xpi",
        "outputId": "f4a92458-fa77-46cc-c34e-ab9dd3c3edfc"
      },
      "outputs": [
        {
          "name": "stdout",
          "text": "\nEntity-Level Classification Report (seqeval):\n              precision    recall  f1-score   support\n\n      HSkill       0.14      0.01      0.01       995\n      SSkill       0.00      0.00      0.00       458\n        Tech       0.36      0.51      0.42       943\n\n   micro avg       0.35      0.20      0.26      2396\n   macro avg       0.17      0.17      0.15      2396\nweighted avg       0.20      0.20      0.17      2396\n\n",
          "output_type": "stream"
        },
        {
          "name": "stderr",
          "text": "/usr/local/lib/python3.11/dist-packages/seqeval/metrics/v1.py:57: UndefinedMetricWarning: Precision and F-score are ill-defined and being set to 0.0 in labels with no predicted samples. Use `zero_division` parameter to control this behavior.\n  _warn_prf(average, modifier, msg_start, len(result))\n",
          "output_type": "stream"
        },
        {
          "output_type": "display_data",
          "data": {
            "text/plain": "<Figure size 1000x800 with 2 Axes>",
            "image/png": "[encoded data removed]"
          },
          "metadata": {}
        }
      ],
      "execution_count": null
    }
  ]
}