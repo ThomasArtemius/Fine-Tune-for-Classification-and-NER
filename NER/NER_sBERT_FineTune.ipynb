{
  "metadata": {
    "kernelspec": {
      "name": "python3",
      "display_name": "Python 3",
      "language": "python"
    },
    "language_info": {
      "name": "python",
      "version": "3.11.11",
      "mimetype": "text/x-python",
      "codemirror_mode": {
        "name": "ipython",
        "version": 3
      },
      "pygments_lexer": "ipython3",
      "nbconvert_exporter": "python",
      "file_extension": ".py"
    },
    "colab": {
      "provenance": [],
      "collapsed_sections": [
        "sE7Vo8sop6dJ",
        "WXLNk6h9qngn"
      ]
    },
    "kaggle": {
      "accelerator": "nvidiaTeslaT4",
      "dataSources": [
        {
          "sourceId": 10958587,
          "sourceType": "datasetVersion",
          "datasetId": 6817451
        }
      ],
      "dockerImageVersionId": 31011,
      "isInternetEnabled": true,
      "language": "python",
      "sourceType": "notebook",
      "isGpuEnabled": true
    }
  },
  "nbformat_minor": 0,
  "nbformat": 4,
  "cells": [
    {
      "cell_type": "code",
      "source": [
        "!pip install seqeval evaluate --quiet"
      ],
      "metadata": {
        "trusted": true,
        "execution": {
          "iopub.status.busy": "2025-05-06T04:15:02.281109Z",
          "iopub.execute_input": "2025-05-06T04:15:02.281679Z",
          "iopub.status.idle": "2025-05-06T04:15:05.386654Z",
          "shell.execute_reply.started": "2025-05-06T04:15:02.281647Z",
          "shell.execute_reply": "2025-05-06T04:15:05.385612Z"
        },
        "id": "TZ8rHpVdaELK"
      },
      "outputs": [],
      "execution_count": null
    },
    {
      "cell_type": "code",
      "source": [
        "from huggingface_hub import login"
      ],
      "metadata": {
        "trusted": true,
        "execution": {
          "iopub.status.busy": "2025-05-06T04:15:05.388196Z",
          "iopub.execute_input": "2025-05-06T04:15:05.388444Z",
          "iopub.status.idle": "2025-05-06T04:15:05.459457Z",
          "shell.execute_reply.started": "2025-05-06T04:15:05.388420Z",
          "shell.execute_reply": "2025-05-06T04:15:05.458891Z"
        },
        "id": "PTJIf_6_aELL"
      },
      "outputs": [],
      "execution_count": null
    },
    {
      "cell_type": "code",
      "source": [
        "import pandas as pd\n",
        "import numpy as np\n",
        "from sklearn.model_selection import train_test_split\n",
        "from sklearn.metrics import classification_report, confusion_matrix\n",
        "import matplotlib.pyplot as plt\n",
        "import seaborn as sns\n",
        "from transformers import AutoTokenizer, AutoModelForTokenClassification\n",
        "from transformers import TrainingArguments, Trainer\n",
        "from datasets import Dataset\n",
        "import evaluate\n",
        "import torch\n",
        "from seqeval.metrics import classification_report as seqeval_classification_report\n",
        "from seqeval.scheme import IOB2"
      ],
      "metadata": {
        "trusted": true,
        "execution": {
          "iopub.status.busy": "2025-05-06T04:15:05.460086Z",
          "iopub.execute_input": "2025-05-06T04:15:05.460316Z",
          "iopub.status.idle": "2025-05-06T04:15:05.464875Z",
          "shell.execute_reply.started": "2025-05-06T04:15:05.460301Z",
          "shell.execute_reply": "2025-05-06T04:15:05.464154Z"
        },
        "id": "Kw5jh3hRaELM"
      },
      "outputs": [],
      "execution_count": null
    },
    {
      "cell_type": "code",
      "source": [
        "# Load and preprocess data\n",
        "file_path = \"/kaggle/input/nerskill-id/NERSkill.Id.txt\"\n",
        "df = pd.read_csv(file_path, delimiter=\"\\t\", names=[\"Sentence #\", \"Word\", \"Tag\"], skiprows=1)\n",
        "df[\"Sentence #\"] = df[\"Sentence #\"].ffill()\n",
        "\n",
        "# Convert to sentences with (word, tag) pairs\n",
        "sentences = df.groupby(\"Sentence #\", group_keys=False).apply(\n",
        "    lambda s: list(zip(s[\"Word\"], s[\"Tag\"]))).tolist()\n",
        "\n",
        "# Split data\n",
        "train_sentences, temp_sentences = train_test_split(sentences, test_size=0.3, random_state=42)\n",
        "val_sentences, test_sentences = train_test_split(temp_sentences, test_size=1/3, random_state=42)"
      ],
      "metadata": {
        "trusted": true,
        "execution": {
          "iopub.status.busy": "2025-05-06T04:15:05.465689Z",
          "iopub.execute_input": "2025-05-06T04:15:05.465869Z",
          "iopub.status.idle": "2025-05-06T04:15:06.492565Z",
          "shell.execute_reply.started": "2025-05-06T04:15:05.465855Z",
          "shell.execute_reply": "2025-05-06T04:15:06.491650Z"
        },
        "id": "KBx4hJAaaELN"
      },
      "outputs": [],
      "execution_count": null
    },
    {
      "cell_type": "code",
      "source": [
        "# Prepare tag mappings (ensure all tags are included)\n",
        "all_tags = sorted(set(tag for sentence in sentences for _, tag in sentence))\n",
        "tag2id = {tag: i for i, tag in enumerate(all_tags)}\n",
        "id2tag = {i: tag for i, tag in enumerate(all_tags)}\n",
        "\n",
        "# Initialize IndoBERT tokenizer\n",
        "model_checkpoint = \"nreimers/MiniLM-L6-H384-uncased\"\n",
        "tokenizer = AutoTokenizer.from_pretrained(model_checkpoint)"
      ],
      "metadata": {
        "trusted": true,
        "execution": {
          "iopub.status.busy": "2025-05-06T04:15:06.494593Z",
          "iopub.execute_input": "2025-05-06T04:15:06.494824Z",
          "iopub.status.idle": "2025-05-06T04:15:06.628372Z",
          "shell.execute_reply.started": "2025-05-06T04:15:06.494805Z",
          "shell.execute_reply": "2025-05-06T04:15:06.627579Z"
        },
        "id": "MyQpYE2naELO"
      },
      "outputs": [],
      "execution_count": null
    },
    {
      "cell_type": "code",
      "source": [
        "# Tokenize and align labels\n",
        "def tokenize_and_align_labels(examples):\n",
        "    tokenized_inputs = tokenizer(\n",
        "        examples[\"tokens\"],\n",
        "        truncation=True,\n",
        "        is_split_into_words=True,\n",
        "        padding=\"max_length\",\n",
        "        max_length=128\n",
        "    )\n",
        "\n",
        "    labels = []\n",
        "    for i, label in enumerate(examples[\"ner_tags\"]):\n",
        "        word_ids = tokenized_inputs.word_ids(batch_index=i)\n",
        "        previous_word_idx = None\n",
        "        label_ids = []\n",
        "        for word_idx in word_ids:\n",
        "            if word_idx is None:\n",
        "                label_ids.append(-100)\n",
        "            elif word_idx != previous_word_idx:\n",
        "                label_ids.append(label[word_idx])\n",
        "            else:\n",
        "                label_ids.append(-100)\n",
        "            previous_word_idx = word_idx\n",
        "        labels.append(label_ids)\n",
        "\n",
        "    tokenized_inputs[\"labels\"] = labels\n",
        "    return tokenized_inputs"
      ],
      "metadata": {
        "trusted": true,
        "execution": {
          "iopub.status.busy": "2025-05-06T04:15:06.629250Z",
          "iopub.execute_input": "2025-05-06T04:15:06.629464Z",
          "iopub.status.idle": "2025-05-06T04:15:06.634707Z",
          "shell.execute_reply.started": "2025-05-06T04:15:06.629448Z",
          "shell.execute_reply": "2025-05-06T04:15:06.633866Z"
        },
        "id": "YBS_A_71aELO"
      },
      "outputs": [],
      "execution_count": null
    },
    {
      "cell_type": "code",
      "source": [
        "# Convert to Hugging Face Dataset format\n",
        "def prepare_dataset(sentences):\n",
        "    tokens = [[word for word, _ in sentence] for sentence in sentences]\n",
        "    ner_tags = [[tag2id[tag] for _, tag in sentence] for sentence in sentences]\n",
        "\n",
        "    return Dataset.from_dict({\n",
        "        \"tokens\": tokens,\n",
        "        \"ner_tags\": ner_tags\n",
        "    })\n",
        "\n",
        "train_dataset = prepare_dataset(train_sentences).map(tokenize_and_align_labels, batched=True)\n",
        "val_dataset = prepare_dataset(val_sentences).map(tokenize_and_align_labels, batched=True)\n",
        "test_dataset = prepare_dataset(test_sentences).map(tokenize_and_align_labels, batched=True)"
      ],
      "metadata": {
        "trusted": true,
        "execution": {
          "iopub.status.busy": "2025-05-06T04:15:06.635494Z",
          "iopub.execute_input": "2025-05-06T04:15:06.635763Z",
          "iopub.status.idle": "2025-05-06T04:15:09.777347Z",
          "shell.execute_reply.started": "2025-05-06T04:15:06.635740Z",
          "shell.execute_reply": "2025-05-06T04:15:09.776784Z"
        },
        "id": "KL_ALVedaELP"
      },
      "outputs": [],
      "execution_count": null
    },
    {
      "cell_type": "code",
      "source": [
        "# Load IndoBERT model\n",
        "model = AutoModelForTokenClassification.from_pretrained(\n",
        "    model_checkpoint,\n",
        "    num_labels=len(tag2id),\n",
        "    id2label=id2tag,\n",
        "    label2id=tag2id\n",
        ")\n",
        "\n",
        "# Metrics (using seqeval for entity-level evaluation)\n",
        "seqeval = evaluate.load(\"seqeval\")"
      ],
      "metadata": {
        "trusted": true,
        "execution": {
          "iopub.status.busy": "2025-05-06T04:15:09.778106Z",
          "iopub.execute_input": "2025-05-06T04:15:09.778366Z",
          "iopub.status.idle": "2025-05-06T04:15:11.215925Z",
          "shell.execute_reply.started": "2025-05-06T04:15:09.778343Z",
          "shell.execute_reply": "2025-05-06T04:15:11.215416Z"
        },
        "id": "Z_RnbKGcaELP"
      },
      "outputs": [],
      "execution_count": null
    },
    {
      "cell_type": "code",
      "source": [
        "def compute_metrics(p):\n",
        "    predictions, labels = p\n",
        "    predictions = np.argmax(predictions, axis=2)\n",
        "\n",
        "    # Remove ignored index (-100) and convert indices to tag strings\n",
        "    true_predictions = [\n",
        "        [id2tag[p] for (p, l) in zip(prediction, label) if l != -100]\n",
        "        for prediction, label in zip(predictions, labels)\n",
        "    ]\n",
        "    true_labels = [\n",
        "        [id2tag[l] for (p, l) in zip(prediction, label) if l != -100]\n",
        "        for prediction, label in zip(predictions, labels)\n",
        "    ]\n",
        "\n",
        "    # Calculate entity-level metrics via seqeval\n",
        "    results = seqeval.compute(predictions=true_predictions, references=true_labels)\n",
        "\n",
        "    # Flatten for token-level classification report\n",
        "    flat_true = [tag for sent in true_labels for tag in sent]\n",
        "    flat_pred = [tag for sent in true_predictions for tag in sent]\n",
        "    token_report = classification_report(flat_true, flat_pred, output_dict=True)\n",
        "\n",
        "    return {\n",
        "        \"precision\": results[\"overall_precision\"],\n",
        "        \"recall\": results[\"overall_recall\"],\n",
        "        \"f1\": results[\"overall_f1\"],\n",
        "        \"accuracy\": results[\"overall_accuracy\"],\n",
        "        \"token_precision\": token_report[\"weighted avg\"][\"precision\"],\n",
        "        \"token_recall\": token_report[\"weighted avg\"][\"recall\"],\n",
        "        \"token_f1\": token_report[\"weighted avg\"][\"f1-score\"],\n",
        "    }"
      ],
      "metadata": {
        "trusted": true,
        "execution": {
          "iopub.status.busy": "2025-05-06T04:15:11.216698Z",
          "iopub.execute_input": "2025-05-06T04:15:11.216917Z",
          "iopub.status.idle": "2025-05-06T04:15:11.223288Z",
          "shell.execute_reply.started": "2025-05-06T04:15:11.216892Z",
          "shell.execute_reply": "2025-05-06T04:15:11.222594Z"
        },
        "id": "G8031ZeCaELQ"
      },
      "outputs": [],
      "execution_count": null
    },
    {
      "cell_type": "code",
      "source": [
        "# Training arguments\n",
        "training_args = TrainingArguments(\n",
        "    output_dir=\"sbert-ner\",\n",
        "    learning_rate=2e-5,\n",
        "    per_device_train_batch_size=16,\n",
        "    per_device_eval_batch_size=32,\n",
        "    num_train_epochs=3,\n",
        "    weight_decay=0.01,\n",
        "    eval_strategy=\"epoch\",\n",
        "    save_strategy=\"epoch\",\n",
        "    load_best_model_at_end=True,\n",
        "    metric_for_best_model=\"f1\",\n",
        "    report_to=\"none\"\n",
        ")\n",
        "\n",
        "# Trainer\n",
        "trainer = Trainer(\n",
        "    model=model,\n",
        "    args=training_args,\n",
        "    train_dataset=train_dataset,\n",
        "    eval_dataset=val_dataset,\n",
        "    tokenizer=tokenizer,\n",
        "    compute_metrics=compute_metrics\n",
        ")\n",
        "\n",
        "# Train\n",
        "trainer.train()"
      ],
      "metadata": {
        "trusted": true,
        "execution": {
          "iopub.status.busy": "2025-05-06T04:15:11.224076Z",
          "iopub.execute_input": "2025-05-06T04:15:11.224308Z",
          "iopub.status.idle": "2025-05-06T04:15:42.575952Z",
          "shell.execute_reply.started": "2025-05-06T04:15:11.224285Z",
          "shell.execute_reply": "2025-05-06T04:15:42.575292Z"
        },
        "id": "K5otvtPMaELQ",
        "outputId": "2436f6ad-25f2-4461-b36e-295d9ca12bf1",
        "colab": {
          "referenced_widgets": [
            "7f6ccaf42f0a44e2970a717ca6257110"
          ]
        }
      },
      "outputs": [
        {
          "name": "stderr",
          "text": "/tmp/ipykernel_103/3039879248.py:17: FutureWarning: `tokenizer` is deprecated and will be removed in version 5.0.0 for `Trainer.__init__`. Use `processing_class` instead.\n  trainer = Trainer(\n",
          "output_type": "stream"
        },
        {
          "output_type": "display_data",
          "data": {
            "text/plain": "model.safetensors:   0%|          | 0.00/90.9M [00:00<?, ?B/s]",
            "application/vnd.jupyter.widget-view+json": {
              "version_major": 2,
              "version_minor": 0,
              "model_id": "7f6ccaf42f0a44e2970a717ca6257110"
            }
          },
          "metadata": {}
        },
        {
          "name": "stderr",
          "text": "/usr/local/lib/python3.11/dist-packages/torch/nn/parallel/_functions.py:71: UserWarning: Was asked to gather along dimension 0, but all input tensors were scalars; will instead unsqueeze and return a vector.\n  warnings.warn(\n",
          "output_type": "stream"
        },
        {
          "output_type": "display_data",
          "data": {
            "text/plain": "<IPython.core.display.HTML object>",
            "text/html": "\n    <div>\n      \n      <progress value='282' max='282' style='width:300px; height:20px; vertical-align: middle;'></progress>\n      [282/282 00:28, Epoch 3/3]\n    </div>\n    <table border=\"1\" class=\"dataframe\">\n  <thead>\n <tr style=\"text-align: left;\">\n      <th>Epoch</th>\n      <th>Training Loss</th>\n      <th>Validation Loss</th>\n      <th>Precision</th>\n      <th>Recall</th>\n      <th>F1</th>\n      <th>Accuracy</th>\n      <th>Token Precision</th>\n      <th>Token Recall</th>\n      <th>Token F1</th>\n    </tr>\n  </thead>\n  <tbody>\n    <tr>\n      <td>1</td>\n      <td>No log</td>\n      <td>0.426820</td>\n      <td>0.365087</td>\n      <td>0.310828</td>\n      <td>0.335780</td>\n      <td>0.880531</td>\n      <td>0.837110</td>\n      <td>0.880531</td>\n      <td>0.845946</td>\n    </tr>\n    <tr>\n      <td>2</td>\n      <td>No log</td>\n      <td>0.339240</td>\n      <td>0.460605</td>\n      <td>0.388587</td>\n      <td>0.421542</td>\n      <td>0.897733</td>\n      <td>0.875414</td>\n      <td>0.897733</td>\n      <td>0.874736</td>\n    </tr>\n    <tr>\n      <td>3</td>\n      <td>No log</td>\n      <td>0.322834</td>\n      <td>0.452297</td>\n      <td>0.481605</td>\n      <td>0.466491</td>\n      <td>0.903159</td>\n      <td>0.892627</td>\n      <td>0.903159</td>\n      <td>0.891908</td>\n    </tr>\n  </tbody>\n</table><p>"
          },
          "metadata": {}
        },
        {
          "name": "stderr",
          "text": "/usr/local/lib/python3.11/dist-packages/seqeval/metrics/v1.py:57: UndefinedMetricWarning: Precision and F-score are ill-defined and being set to 0.0 in labels with no predicted samples. Use `zero_division` parameter to control this behavior.\n  _warn_prf(average, modifier, msg_start, len(result))\n/usr/local/lib/python3.11/dist-packages/sklearn/metrics/_classification.py:1344: UndefinedMetricWarning: Precision and F-score are ill-defined and being set to 0.0 in labels with no predicted samples. Use `zero_division` parameter to control this behavior.\n  _warn_prf(average, modifier, msg_start, len(result))\n/usr/local/lib/python3.11/dist-packages/sklearn/metrics/_classification.py:1344: UndefinedMetricWarning: Precision and F-score are ill-defined and being set to 0.0 in labels with no predicted samples. Use `zero_division` parameter to control this behavior.\n  _warn_prf(average, modifier, msg_start, len(result))\n/usr/local/lib/python3.11/dist-packages/sklearn/metrics/_classification.py:1344: UndefinedMetricWarning: Precision and F-score are ill-defined and being set to 0.0 in labels with no predicted samples. Use `zero_division` parameter to control this behavior.\n  _warn_prf(average, modifier, msg_start, len(result))\n/usr/local/lib/python3.11/dist-packages/torch/nn/parallel/_functions.py:71: UserWarning: Was asked to gather along dimension 0, but all input tensors were scalars; will instead unsqueeze and return a vector.\n  warnings.warn(\n/usr/local/lib/python3.11/dist-packages/sklearn/metrics/_classification.py:1344: UndefinedMetricWarning: Precision and F-score are ill-defined and being set to 0.0 in labels with no predicted samples. Use `zero_division` parameter to control this behavior.\n  _warn_prf(average, modifier, msg_start, len(result))\n/usr/local/lib/python3.11/dist-packages/sklearn/metrics/_classification.py:1344: UndefinedMetricWarning: Precision and F-score are ill-defined and being set to 0.0 in labels with no predicted samples. Use `zero_division` parameter to control this behavior.\n  _warn_prf(average, modifier, msg_start, len(result))\n/usr/local/lib/python3.11/dist-packages/sklearn/metrics/_classification.py:1344: UndefinedMetricWarning: Precision and F-score are ill-defined and being set to 0.0 in labels with no predicted samples. Use `zero_division` parameter to control this behavior.\n  _warn_prf(average, modifier, msg_start, len(result))\n/usr/local/lib/python3.11/dist-packages/torch/nn/parallel/_functions.py:71: UserWarning: Was asked to gather along dimension 0, but all input tensors were scalars; will instead unsqueeze and return a vector.\n  warnings.warn(\n/usr/local/lib/python3.11/dist-packages/sklearn/metrics/_classification.py:1344: UndefinedMetricWarning: Precision and F-score are ill-defined and being set to 0.0 in labels with no predicted samples. Use `zero_division` parameter to control this behavior.\n  _warn_prf(average, modifier, msg_start, len(result))\n/usr/local/lib/python3.11/dist-packages/sklearn/metrics/_classification.py:1344: UndefinedMetricWarning: Precision and F-score are ill-defined and being set to 0.0 in labels with no predicted samples. Use `zero_division` parameter to control this behavior.\n  _warn_prf(average, modifier, msg_start, len(result))\n/usr/local/lib/python3.11/dist-packages/sklearn/metrics/_classification.py:1344: UndefinedMetricWarning: Precision and F-score are ill-defined and being set to 0.0 in labels with no predicted samples. Use `zero_division` parameter to control this behavior.\n  _warn_prf(average, modifier, msg_start, len(result))\n",
          "output_type": "stream"
        },
        {
          "execution_count": 17,
          "output_type": "execute_result",
          "data": {
            "text/plain": "TrainOutput(global_step=282, training_loss=0.45348098430227723, metrics={'train_runtime': 30.6925, 'train_samples_per_second': 293.915, 'train_steps_per_second': 9.188, 'total_flos': 73786274447616.0, 'train_loss': 0.45348098430227723, 'epoch': 3.0})"
          },
          "metadata": {}
        }
      ],
      "execution_count": null
    },
    {
      "cell_type": "code",
      "source": [
        "# Evaluate on test set\n",
        "test_results = trainer.predict(test_dataset)\n",
        "metrics = test_results.metrics\n",
        "print(\"\\nTest Set Results:\")\n",
        "# Note: The returned keys are automatically prefixed with \"test_\" when using predict()\n",
        "print(f\"Token-level Precision: {metrics['test_token_precision']:.4f}\")\n",
        "print(f\"Token-level Recall: {metrics['test_token_recall']:.4f}\")\n",
        "print(f\"Token-level F1: {metrics['test_token_f1']:.4f}\")\n",
        "print(f\"\\nEntity-level Precision: {metrics['test_precision']:.4f}\")\n",
        "print(f\"Entity-level Recall: {metrics['test_recall']:.4f}\")\n",
        "print(f\"Entity-level F1: {metrics['test_f1']:.4f}\")"
      ],
      "metadata": {
        "trusted": true,
        "execution": {
          "iopub.status.busy": "2025-05-06T04:15:42.576696Z",
          "iopub.execute_input": "2025-05-06T04:15:42.576950Z",
          "iopub.status.idle": "2025-05-06T04:15:43.427961Z",
          "shell.execute_reply.started": "2025-05-06T04:15:42.576933Z",
          "shell.execute_reply": "2025-05-06T04:15:43.427379Z"
        },
        "id": "iOnyqM_TaELR",
        "outputId": "f2b229c3-76bb-4395-878a-de8c9c14b1c7"
      },
      "outputs": [
        {
          "name": "stderr",
          "text": "/usr/local/lib/python3.11/dist-packages/torch/nn/parallel/_functions.py:71: UserWarning: Was asked to gather along dimension 0, but all input tensors were scalars; will instead unsqueeze and return a vector.\n  warnings.warn(\n",
          "output_type": "stream"
        },
        {
          "output_type": "display_data",
          "data": {
            "text/plain": "<IPython.core.display.HTML object>",
            "text/html": ""
          },
          "metadata": {}
        },
        {
          "name": "stderr",
          "text": "/usr/local/lib/python3.11/dist-packages/sklearn/metrics/_classification.py:1344: UndefinedMetricWarning: Precision and F-score are ill-defined and being set to 0.0 in labels with no predicted samples. Use `zero_division` parameter to control this behavior.\n  _warn_prf(average, modifier, msg_start, len(result))\n/usr/local/lib/python3.11/dist-packages/sklearn/metrics/_classification.py:1344: UndefinedMetricWarning: Precision and F-score are ill-defined and being set to 0.0 in labels with no predicted samples. Use `zero_division` parameter to control this behavior.\n  _warn_prf(average, modifier, msg_start, len(result))\n/usr/local/lib/python3.11/dist-packages/sklearn/metrics/_classification.py:1344: UndefinedMetricWarning: Precision and F-score are ill-defined and being set to 0.0 in labels with no predicted samples. Use `zero_division` parameter to control this behavior.\n  _warn_prf(average, modifier, msg_start, len(result))\n",
          "output_type": "stream"
        },
        {
          "name": "stdout",
          "text": "\nTest Set Results:\nToken-level Precision: 0.8954\nToken-level Recall: 0.9061\nToken-level F1: 0.8938\n\nEntity-level Precision: 0.4655\nEntity-level Recall: 0.4697\nEntity-level F1: 0.4676\n",
          "output_type": "stream"
        }
      ],
      "execution_count": null
    },
    {
      "cell_type": "code",
      "source": [
        "predictions = np.argmax(test_results.predictions, axis=2)\n",
        "true_labels_matrix = test_results.label_ids\n",
        "\n",
        "# Filter out ignored labels (-100) and convert indices to tags\n",
        "true_predictions = [\n",
        "    [id2tag[p] for (p, l) in zip(prediction, label) if l != -100]\n",
        "    for prediction, label in zip(predictions, true_labels_matrix)\n",
        "]\n",
        "true_labels = [\n",
        "    [id2tag[l] for (p, l) in zip(prediction, label) if l != -100]\n",
        "    for prediction, label in zip(predictions, true_labels_matrix)\n",
        "]\n",
        "\n",
        "# Flatten token-level predictions and labels\n",
        "flat_true = [tag for sent in true_labels for tag in sent]\n",
        "flat_pred = [tag for sent in true_predictions for tag in sent]\n",
        "\n",
        "# Exclude tokens whose gold label is 'O'\n",
        "filtered_indices = [i for i, tag in enumerate(flat_true) if tag != \"O\"]\n",
        "flat_true_noO = [flat_true[i] for i in filtered_indices]\n",
        "flat_pred_noO = [flat_pred[i] for i in filtered_indices]\n",
        "# Set labels to all entity tags (excluding \"O\")\n",
        "entity_labels = [tag for tag in sorted(tag2id.keys()) if tag != \"O\"]\n",
        "\n",
        "# Token-level classification report (including 'O' tag)\n",
        "print(\"\\nDetailed Token-Level Classification Report (All Tags):\")\n",
        "print(classification_report(flat_true, flat_pred, target_names=sorted(tag2id.keys())))\n",
        "\n",
        "cm_token = confusion_matrix(flat_true_noO, flat_pred_noO, labels=entity_labels)\n",
        "plt.figure(figsize=(10, 8))\n",
        "sns.heatmap(cm_token, annot=True, fmt=\"d\", cmap=\"Blues\", xticklabels=entity_labels, yticklabels=entity_labels)\n",
        "plt.xlabel(\"Predicted\")\n",
        "plt.ylabel(\"True\")\n",
        "plt.title(\"Token-Level NER Confusion Matrix (Excluding 'O')\")\n",
        "plt.show()"
      ],
      "metadata": {
        "trusted": true,
        "execution": {
          "iopub.status.busy": "2025-05-06T04:15:43.428527Z",
          "iopub.execute_input": "2025-05-06T04:15:43.428698Z",
          "iopub.status.idle": "2025-05-06T04:15:44.007774Z",
          "shell.execute_reply.started": "2025-05-06T04:15:43.428684Z",
          "shell.execute_reply": "2025-05-06T04:15:44.007143Z"
        },
        "id": "ini87NwhaELR",
        "outputId": "46143a3b-d3e7-46fc-a1ca-ee772093e612"
      },
      "outputs": [
        {
          "name": "stdout",
          "text": "\nDetailed Token-Level Classification Report (All Tags):\n",
          "output_type": "stream"
        },
        {
          "name": "stderr",
          "text": "/usr/local/lib/python3.11/dist-packages/sklearn/metrics/_classification.py:1344: UndefinedMetricWarning: Precision and F-score are ill-defined and being set to 0.0 in labels with no predicted samples. Use `zero_division` parameter to control this behavior.\n  _warn_prf(average, modifier, msg_start, len(result))\n/usr/local/lib/python3.11/dist-packages/sklearn/metrics/_classification.py:1344: UndefinedMetricWarning: Precision and F-score are ill-defined and being set to 0.0 in labels with no predicted samples. Use `zero_division` parameter to control this behavior.\n  _warn_prf(average, modifier, msg_start, len(result))\n/usr/local/lib/python3.11/dist-packages/sklearn/metrics/_classification.py:1344: UndefinedMetricWarning: Precision and F-score are ill-defined and being set to 0.0 in labels with no predicted samples. Use `zero_division` parameter to control this behavior.\n  _warn_prf(average, modifier, msg_start, len(result))\n",
          "output_type": "stream"
        },
        {
          "name": "stdout",
          "text": "              precision    recall  f1-score   support\n\n    B-HSkill       0.53      0.49      0.51       995\n    B-SSkill       0.79      0.15      0.25       458\n      B-Tech       0.69      0.91      0.79       943\n    I-HSkill       0.52      0.40      0.45       642\n    I-SSkill       0.00      0.00      0.00       145\n      I-Tech       0.75      0.22      0.34       267\n           O       0.95      0.98      0.96     20294\n\n    accuracy                           0.91     23744\n   macro avg       0.60      0.45      0.47     23744\nweighted avg       0.90      0.91      0.89     23744\n\n",
          "output_type": "stream"
        },
        {
          "output_type": "display_data",
          "data": {
            "text/plain": "<Figure size 1000x800 with 2 Axes>",
            "image/png": "[encoded data removed]"
          },
          "metadata": {}
        }
      ],
      "execution_count": null
    },
    {
      "cell_type": "code",
      "source": [
        "# Extract true predictions and labels (removing padding labels -100)\n",
        "true_predictions = [\n",
        "    [id2tag[p] for (p, l) in zip(pred, label) if l != -100]\n",
        "    for pred, label in zip(np.argmax(test_results.predictions, axis=2), test_results.label_ids)\n",
        "]\n",
        "true_labels = [\n",
        "    [id2tag[l] for l in label if l != -100]\n",
        "    for label in test_results.label_ids\n",
        "]\n",
        "\n",
        "# Generate and print the seqeval entity-level classification report\n",
        "print(\"\\nEntity-Level Classification Report (seqeval):\")\n",
        "print(seqeval_classification_report(true_labels, true_predictions, mode='strict', scheme=IOB2))\n",
        "\n",
        "# Define a helper function to extract entity types from a sequence.\n",
        "def get_entity_types(tag_sequence):\n",
        "    \"\"\"\n",
        "    Extracts entity types from a tag sequence.\n",
        "    When a tag starts with 'B-', it registers a new entity.\n",
        "    For simplicity, this function only collects the types (i.e., without their span positions).\n",
        "    \"\"\"\n",
        "    entities = []\n",
        "    for tag in tag_sequence:\n",
        "        if tag.startswith('B-'):\n",
        "            # Append the entity type (without the prefix \"B-\")\n",
        "            entities.append(tag[2:])\n",
        "    return entities\n",
        "\n",
        "# Build lists for the confusion matrix.\n",
        "y_true = []\n",
        "y_pred = []\n",
        "\n",
        "for gold_seq, pred_seq in zip(true_labels, true_predictions):\n",
        "    # Extract entity types from the current sentence.\n",
        "    gold_entities = get_entity_types(gold_seq)\n",
        "    pred_entities = get_entity_types(pred_seq)\n",
        "\n",
        "    # Determine the maximum number of entities between the two lists.\n",
        "    max_len = max(len(gold_entities), len(pred_entities))\n",
        "\n",
        "    # Pad the shorter list with the placeholder \"None\".\n",
        "    if len(gold_entities) < max_len:\n",
        "        gold_entities = gold_entities + [\"None\"] * (max_len - len(gold_entities))\n",
        "    if len(pred_entities) < max_len:\n",
        "        pred_entities = pred_entities + [\"None\"] * (max_len - len(pred_entities))\n",
        "\n",
        "    # Extend the overall lists.\n",
        "    y_true.extend(gold_entities)\n",
        "    y_pred.extend(pred_entities)\n",
        "\n",
        "# Optionally: Remove the \"None\" placeholder from the labels list if you prefer to focus only on recognized entity types.\n",
        "all_entity_types = sorted(set(y_true + y_pred))\n",
        "if \"None\" in all_entity_types:\n",
        "    all_entity_types.remove(\"None\")\n",
        "\n",
        "# Compute the confusion matrix using the list of entity types.\n",
        "cm = confusion_matrix(y_true, y_pred, labels=all_entity_types)\n",
        "\n",
        "# Plot the confusion matrix.\n",
        "plt.figure(figsize=(10, 8))\n",
        "sns.heatmap(\n",
        "    cm,\n",
        "    annot=True,\n",
        "    fmt='d',\n",
        "    cmap='Blues',\n",
        "    xticklabels=all_entity_types,\n",
        "    yticklabels=all_entity_types\n",
        ")\n",
        "plt.title('Entity Type Confusion Matrix')\n",
        "plt.xlabel('Predicted')\n",
        "plt.ylabel('Actual')\n",
        "plt.xticks(rotation=45)\n",
        "plt.yticks(rotation=0)\n",
        "plt.tight_layout()\n",
        "plt.show()\n"
      ],
      "metadata": {
        "trusted": true,
        "execution": {
          "iopub.status.busy": "2025-05-06T04:15:44.008643Z",
          "iopub.execute_input": "2025-05-06T04:15:44.008832Z",
          "iopub.status.idle": "2025-05-06T04:15:44.324536Z",
          "shell.execute_reply.started": "2025-05-06T04:15:44.008818Z",
          "shell.execute_reply": "2025-05-06T04:15:44.323934Z"
        },
        "id": "Y7ZOqOY9aELS",
        "outputId": "d1d94d5d-2bce-4f30-fe8a-1cae1b9d710b"
      },
      "outputs": [
        {
          "name": "stdout",
          "text": "\nEntity-Level Classification Report (seqeval):\n              precision    recall  f1-score   support\n\n      HSkill       0.39      0.35      0.37       995\n      SSkill       0.63      0.12      0.20       458\n        Tech       0.56      0.74      0.64       943\n\n   micro avg       0.49      0.46      0.47      2396\n   macro avg       0.52      0.40      0.40      2396\nweighted avg       0.50      0.46      0.44      2396\n\n",
          "output_type": "stream"
        },
        {
          "output_type": "display_data",
          "data": {
            "text/plain": "<Figure size 1000x800 with 2 Axes>",
            "image/png": "[encoded data removed]"
          },
          "metadata": {}
        }
      ],
      "execution_count": null
    }
  ]
}