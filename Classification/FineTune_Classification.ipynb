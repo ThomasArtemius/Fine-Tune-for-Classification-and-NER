{
  "metadata": {
    "kernelspec": {
      "name": "python3",
      "display_name": "Python 3",
      "language": "python"
    },
    "language_info": {
      "name": "python",
      "version": "3.11.13",
      "mimetype": "text/x-python",
      "codemirror_mode": {
        "name": "ipython",
        "version": 3
      },
      "pygments_lexer": "ipython3",
      "nbconvert_exporter": "python",
      "file_extension": ".py"
    },
    "colab": {
      "provenance": [],
      "gpuType": "T4"
    },
    "accelerator": "GPU",
    "kaggle": {
      "accelerator": "nvidiaTeslaT4",
      "dataSources": [
        {
          "sourceId": 12495920,
          "sourceType": "datasetVersion",
          "datasetId": 7886037
        }
      ],
      "dockerImageVersionId": 31090,
      "isInternetEnabled": true,
      "language": "python",
      "sourceType": "notebook",
      "isGpuEnabled": true
    }
  },
  "nbformat_minor": 0,
  "nbformat": 4,
  "cells": [
    {
      "cell_type": "code",
      "source": [
        "import pandas as pd\n",
        "from transformers import AutoTokenizer, AutoModelForSequenceClassification, Trainer, TrainingArguments\n",
        "from sklearn.model_selection import train_test_split\n",
        "from sklearn.metrics import accuracy_score, f1_score, confusion_matrix, ConfusionMatrixDisplay\n",
        "import torch\n",
        "from torch.utils.data import Dataset\n",
        "import matplotlib.pyplot as plt\n",
        "from kaggle_secrets import UserSecretsClient\n",
        "import wandb\n",
        "import numpy as np"
      ],
      "metadata": {
        "id": "gj6dAr-Hb1fD",
        "trusted": true,
        "execution": {
          "iopub.status.busy": "2025-07-17T09:36:44.006785Z",
          "iopub.execute_input": "2025-07-17T09:36:44.006973Z",
          "iopub.status.idle": "2025-07-17T09:37:19.414159Z",
          "shell.execute_reply.started": "2025-07-17T09:36:44.006957Z",
          "shell.execute_reply": "2025-07-17T09:37:19.413531Z"
        }
      },
      "outputs": [],
      "execution_count": null
    },
    {
      "cell_type": "code",
      "source": [
        "# 1. Load and preprocess data\n",
        "def load_data():\n",
        "    months = ['/kaggle/input/indonesia-news-corpus/november']\n",
        "    dfs = []\n",
        "    for month in months:\n",
        "        df = pd.read_json(f'{month}.json')\n",
        "        dfs.append(df[['isi', 'kategori']])\n",
        "    return pd.concat(dfs)\n",
        "\n",
        "df = load_data()"
      ],
      "metadata": {
        "id": "u459B5YAb23y",
        "trusted": true,
        "execution": {
          "iopub.status.busy": "2025-07-17T09:37:19.416007Z",
          "iopub.execute_input": "2025-07-17T09:37:19.416199Z",
          "iopub.status.idle": "2025-07-17T09:37:20.313872Z",
          "shell.execute_reply.started": "2025-07-17T09:37:19.416183Z",
          "shell.execute_reply": "2025-07-17T09:37:20.313113Z"
        }
      },
      "outputs": [],
      "execution_count": null
    },
    {
      "cell_type": "code",
      "source": [
        "# 2. Prepare dataset\n",
        "class NewsDataset(Dataset):\n",
        "    def __init__(self, encodings, labels):\n",
        "        self.encodings = encodings\n",
        "        self.labels = labels\n",
        "\n",
        "    def __getitem__(self, idx):\n",
        "        item = {key: torch.tensor(val[idx]) for key, val in self.encodings.items()}\n",
        "        item['labels'] = torch.tensor(self.labels[idx])\n",
        "        return item\n",
        "\n",
        "    def __len__(self):\n",
        "        return len(self.labels)"
      ],
      "metadata": {
        "id": "jJBG-hdYb30L",
        "trusted": true,
        "execution": {
          "iopub.status.busy": "2025-07-17T09:37:20.314610Z",
          "iopub.execute_input": "2025-07-17T09:37:20.314870Z",
          "iopub.status.idle": "2025-07-17T09:37:20.319727Z",
          "shell.execute_reply.started": "2025-07-17T09:37:20.314848Z",
          "shell.execute_reply": "2025-07-17T09:37:20.319098Z"
        }
      },
      "outputs": [],
      "execution_count": null
    },
    {
      "cell_type": "code",
      "source": [
        "# 3. Evaluate function\n",
        "def compute_metrics(pred):\n",
        "    labels = pred.label_ids\n",
        "    preds = pred.predictions.argmax(-1)\n",
        "    return {\n",
        "        'accuracy': accuracy_score(labels, preds),\n",
        "        'f1': f1_score(labels, preds, average='weighted')\n",
        "    }"
      ],
      "metadata": {
        "id": "_NVPJ9Jxb43S",
        "trusted": true,
        "execution": {
          "iopub.status.busy": "2025-07-17T09:37:20.320360Z",
          "iopub.execute_input": "2025-07-17T09:37:20.320616Z",
          "iopub.status.idle": "2025-07-17T09:37:20.334461Z",
          "shell.execute_reply.started": "2025-07-17T09:37:20.320593Z",
          "shell.execute_reply": "2025-07-17T09:37:20.333702Z"
        }
      },
      "outputs": [],
      "execution_count": null
    },
    {
      "cell_type": "code",
      "source": [
        "# 4. Models to compare\n",
        "models = {\n",
        "    'IndoBERT': 'indobenchmark/indobert-base-p1',\n",
        "    'mBERT': 'bert-base-multilingual-cased',\n",
        "    'RoBERTa': 'roberta-base'\n",
        "}\n",
        "\n",
        "results = {}"
      ],
      "metadata": {
        "id": "Y11a2KJ8b5vK",
        "trusted": true,
        "execution": {
          "iopub.status.busy": "2025-07-17T09:37:20.335133Z",
          "iopub.execute_input": "2025-07-17T09:37:20.335331Z",
          "iopub.status.idle": "2025-07-17T09:37:20.349706Z",
          "shell.execute_reply.started": "2025-07-17T09:37:20.335315Z",
          "shell.execute_reply": "2025-07-17T09:37:20.349010Z"
        }
      },
      "outputs": [],
      "execution_count": null
    },
    {
      "cell_type": "code",
      "source": [
        "wandb_api_key = UserSecretsClient().get_secret(\"wandb_api_key\")\n",
        "wandb.login(key=wandb_api_key)"
      ],
      "metadata": {
        "trusted": true,
        "execution": {
          "iopub.status.busy": "2025-07-17T09:37:20.350318Z",
          "iopub.execute_input": "2025-07-17T09:37:20.350523Z",
          "iopub.status.idle": "2025-07-17T09:37:26.330281Z",
          "shell.execute_reply.started": "2025-07-17T09:37:20.350502Z",
          "shell.execute_reply": "2025-07-17T09:37:26.329727Z"
        },
        "id": "3HMEsD7G7K2b"
      },
      "outputs": [],
      "execution_count": null
    },
    {
      "cell_type": "code",
      "source": [
        "# 5. Train and evaluate each model\n",
        "def train_with_wandb(model_name, model_path, df):\n",
        "    # Start W&B run\n",
        "    wandb.init(project=\"indonesian-news-classification\",\n",
        "              name=model_name,\n",
        "              config={\"model\": model_name, \"epochs\": 3, \"batch_size\": 8})\n",
        "\n",
        "    # Tokenizer and model setup\n",
        "    tokenizer = AutoTokenizer.from_pretrained(model_path)\n",
        "    model = AutoModelForSequenceClassification.from_pretrained(\n",
        "        model_path,\n",
        "        num_labels=len(df['kategori'].unique()))\n",
        "\n",
        "    # Get label names before factorization\n",
        "    labels, unique_labels = pd.factorize(df['kategori'])\n",
        "    texts = df['isi'].tolist()\n",
        "\n",
        "    # Dataset preparation\n",
        "    train_texts, val_texts, train_labels, val_labels = train_test_split(\n",
        "        texts, labels, test_size=0.2, random_state=42)\n",
        "\n",
        "    train_dataset = NewsDataset(\n",
        "        tokenizer(train_texts, truncation=True, padding=True, max_length=256),\n",
        "        train_labels\n",
        "    )\n",
        "    val_dataset = NewsDataset(\n",
        "        tokenizer(val_texts, truncation=True, padding=True, max_length=256),\n",
        "        val_labels\n",
        "    )\n",
        "\n",
        "    # Training with W&B logging\n",
        "    training_args = TrainingArguments(\n",
        "        output_dir=f'./results/{model_name}',\n",
        "        eval_strategy='epoch',\n",
        "        save_strategy='epoch',\n",
        "        logging_strategy='epoch',\n",
        "        report_to='wandb',  # Critical for W&B integration\n",
        "        learning_rate=2e-5,\n",
        "        per_device_train_batch_size=8,\n",
        "        per_device_eval_batch_size=8,\n",
        "        num_train_epochs=3,\n",
        "        weight_decay=0.01,\n",
        "        load_best_model_at_end=True\n",
        "    )\n",
        "\n",
        "    trainer = Trainer(\n",
        "        model=model,\n",
        "        args=training_args,\n",
        "        train_dataset=train_dataset,\n",
        "        eval_dataset=val_dataset,\n",
        "        compute_metrics=compute_metrics\n",
        "    )\n",
        "\n",
        "    trainer.train()\n",
        "    eval_result = trainer.evaluate()\n",
        "\n",
        "    # Generate confusion matrix\n",
        "    predictions = trainer.predict(val_dataset)\n",
        "    preds = np.argmax(predictions.predictions, axis=-1)\n",
        "    true_labels = predictions.label_ids\n",
        "\n",
        "    # Create and log confusion matrix\n",
        "    cm = confusion_matrix(true_labels, preds)\n",
        "    fig, ax = plt.subplots(figsize=(10, 8))\n",
        "    disp = ConfusionMatrixDisplay(\n",
        "        confusion_matrix=cm,\n",
        "        display_labels=unique_labels\n",
        "    )\n",
        "    disp.plot(ax=ax, cmap='Blues', xticks_rotation=45)\n",
        "    plt.title(f\"Confusion Matrix - {model_name}\")\n",
        "    plt.tight_layout()\n",
        "\n",
        "    # Log to W&B\n",
        "    wandb.log({\"confusion_matrix\": wandb.Image(fig)})\n",
        "    plt.close(fig)  # Prevent duplicate displays in notebooks\n",
        "\n",
        "    wandb.finish()\n",
        "\n",
        "    return eval_result"
      ],
      "metadata": {
        "trusted": true,
        "execution": {
          "iopub.status.busy": "2025-07-17T09:37:26.332231Z",
          "iopub.execute_input": "2025-07-17T09:37:26.332778Z",
          "iopub.status.idle": "2025-07-17T09:37:26.341143Z",
          "shell.execute_reply.started": "2025-07-17T09:37:26.332758Z",
          "shell.execute_reply": "2025-07-17T09:37:26.340546Z"
        },
        "id": "1tkEco5m7K2d"
      },
      "outputs": [],
      "execution_count": null
    },
    {
      "cell_type": "code",
      "source": [
        "# 4. Comparison\n",
        "for model_name, model_path in models.items():\n",
        "    print(f\"\\nTraining {model_name}...\")\n",
        "    results[model_name] = train_with_wandb(model_name, model_path, df)"
      ],
      "metadata": {
        "trusted": true,
        "execution": {
          "iopub.status.busy": "2025-07-17T09:37:26.341937Z",
          "iopub.execute_input": "2025-07-17T09:37:26.342184Z",
          "iopub.status.idle": "2025-07-17T11:30:21.474361Z",
          "shell.execute_reply.started": "2025-07-17T09:37:26.342160Z",
          "shell.execute_reply": "2025-07-17T11:30:21.473446Z"
        },
        "id": "DEyAZqoe7K2g"
      },
      "outputs": [],
      "execution_count": null
    },
    {
      "cell_type": "code",
      "source": [
        "# 5. Classification report\n",
        "print(\"\\nFinal Results:\")\n",
        "for model_name, metrics in results.items():\n",
        "    print(f\"{model_name}:\")\n",
        "    print(f\"  Accuracy: {metrics['eval_accuracy']:.4f}\")\n",
        "    print(f\"  F1: {metrics['eval_f1']:.4f}\")"
      ],
      "metadata": {
        "trusted": true,
        "execution": {
          "iopub.status.busy": "2025-07-17T11:30:21.476259Z",
          "iopub.execute_input": "2025-07-17T11:30:21.476493Z",
          "iopub.status.idle": "2025-07-17T11:30:21.481404Z",
          "shell.execute_reply.started": "2025-07-17T11:30:21.476464Z",
          "shell.execute_reply": "2025-07-17T11:30:21.480602Z"
        },
        "id": "_dWMPjdP7K2h",
        "outputId": "975a0cdb-408c-4995-817c-46899d52ade3"
      },
      "outputs": [
        {
          "name": "stdout",
          "text": "\nFinal Results:\nIndoBERT:\n  Accuracy: 0.9378\n  F1: 0.9375\nmBERT:\n  Accuracy: 0.9279\n  F1: 0.9278\nRoBERTa:\n  Accuracy: 0.9297\n  F1: 0.9299\n",
          "output_type": "stream"
        }
      ],
      "execution_count": null
    }
  ]
}